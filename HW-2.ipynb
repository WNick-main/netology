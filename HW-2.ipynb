{
 "cells": [
  {
   "cell_type": "markdown",
   "metadata": {},
   "source": [
    "## Задание 1\n",
    "Дана переменная, в которой хранится слово из латинских букв. Напишите код, который выводит на экран:\n",
    "\n",
    "    среднюю букву, если число букв в слове нечетное;\n",
    "    две средних буквы, если число букв четное.\n",
    "\n",
    "Примеры работы программы:\n",
    "\n",
    "    word = ‘test’\n",
    "\n",
    "Результат:\n",
    "es\n",
    "\n",
    "    word = ‘testing’\n",
    "\n",
    "Результат:\n",
    "t"
   ]
  },
  {
   "cell_type": "code",
   "execution_count": 8,
   "metadata": {},
   "outputs": [
    {
     "name": "stdout",
     "output_type": "stream",
     "text": [
      "t\n"
     ]
    }
   ],
   "source": [
    "word = 'testing'\n",
    "center=len(word)//2\n",
    "if len(word)%2==0:\n",
    "    result = word[center-1:center+1]\n",
    "else: \n",
    "    result = word[center:center+1]\n",
    "print(result)"
   ]
  },
  {
   "cell_type": "markdown",
   "metadata": {},
   "source": [
    "## Задание 2\n",
    "Напишите программу, которая последовательно запрашивает у пользователя числа (по одному за раз) и после первого нуля выводит сумму всех ранее введенных чисел.\n",
    "\n",
    "Примеры работы программы:\n",
    "\n",
    "Введите число:\n",
    "1\n",
    "\n",
    "Введите число:\n",
    "4\n",
    "\n",
    "Введите число:\n",
    "6\n",
    "\n",
    "Введите число:\n",
    "0\n",
    "Результат:\n",
    "11\n",
    "\n",
    "Введите число:\n",
    "0\n",
    "Результат:\n",
    "0"
   ]
  },
  {
   "cell_type": "code",
   "execution_count": 81,
   "metadata": {},
   "outputs": [
    {
     "name": "stdout",
     "output_type": "stream",
     "text": [
      "Введите число:  12\n",
      "Введите число:  4\n",
      "Введите число:  0\n",
      "Результат:  16\n"
     ]
    }
   ],
   "source": [
    "number = 1\n",
    "NumbList = []\n",
    "while number != '0':\n",
    "    print(\"Введите число: \", end=' ')\n",
    "    number = input()\n",
    "    NumbList.append(int(number))\n",
    "print(\"Результат: \",str(sum(NumbList)))\n",
    "    "
   ]
  },
  {
   "cell_type": "markdown",
   "metadata": {},
   "source": [
    "## Задание 3\n",
    "Мы делаем MVP dating-сервиса, и у нас есть список парней и девушек.\n",
    "Выдвигаем гипотезу: лучшие рекомендации мы получим, если просто отсортируем имена по алфавиту и познакомим людей с одинаковыми индексами после сортировки! Но мы не будем никого знакомить, если кто-то может остаться без пары:\n",
    "\n",
    "Примеры работы программы:\n",
    "\n",
    "boys = [‘Peter’, ‘Alex’, ‘John’, ‘Arthur’, ‘Richard’]\n",
    "girls = [‘Kate’, ‘Liza’, ‘Kira’, ‘Emma’, ‘Trisha’]\n",
    "Результат:\n",
    "\n",
    "Идеальные пары:\n",
    "Alex и Emma\n",
    "Arthur и Kate\n",
    "John и Kira\n",
    "Peter и Liza\n",
    "Richard и Trisha\n",
    "boys = [‘Peter’, ‘Alex’, ‘John’, ‘Arthur’, ‘Richard’, ‘Michael’]\n",
    "girls = [‘Kate’, ‘Liza’, ‘Kira’, ‘Emma’, ‘Trisha’]\n",
    "Результат:\n",
    "Внимание, кто-то может остаться без пары!"
   ]
  },
  {
   "cell_type": "code",
   "execution_count": 48,
   "metadata": {},
   "outputs": [
    {
     "name": "stdout",
     "output_type": "stream",
     "text": [
      "Идеальные пары: Alex и Emma Arthur и Kate John и Kira Peter и Liza Richard и Trisha \n"
     ]
    }
   ],
   "source": [
    "boys = ['Peter', 'Alex', 'John', 'Arthur', 'Richard'] \n",
    "girls = ['Kate', 'Liza', 'Kira', 'Emma', 'Trisha']\n",
    "\n",
    "if len(boys) == len(girls): \n",
    "    result = 'Идеальные пары: '\n",
    "    for elem in zip(sorted(boys),sorted(girls)):\n",
    "        result += ' и '.join(elem) + ' '\n",
    "else:\n",
    "    result = 'Результат: Внимание, кто-то может остаться без пары!'\n",
    "    \n",
    "print(result)"
   ]
  },
  {
   "cell_type": "markdown",
   "metadata": {},
   "source": [
    "## Задание 4\n",
    "У нас есть список, содержащий информацию о среднедневной температуре в Фаренгейтах за произвольный период по странам (структура данных в примере). Необходимо написать код, который рассчитает среднюю температуру за период в Цельсиях(!) для каждой страны.\n",
    "\n",
    "Пример работы программы:\n",
    "\n",
    "countries_temperature = [\n",
    "[‘Thailand’, [75.2, 77, 78.8, 73.4, 68, 75.2, 77]],\n",
    "[‘Germany’, [57.2, 55.4, 59, 59, 53.6]],\n",
    "[‘Russia’, [35.6, 37.4, 39.2, 41, 42.8, 39.2, 35.6]],\n",
    "[‘Poland’, [50, 50, 53.6, 57.2, 55.4, 55.4]]\n",
    "]\n",
    "Результат:\n",
    "\n",
    "Средняя температура в странах:\n",
    "Thailand - 23.9 С\n",
    "Germany - 13.8 С\n",
    "Russia - 3.7 С\n",
    "Poland - 12.0 С"
   ]
  },
  {
   "cell_type": "code",
   "execution_count": 82,
   "metadata": {},
   "outputs": [
    {
     "name": "stdout",
     "output_type": "stream",
     "text": [
      "Thailand - 23.9 C Germany - 13.8 C Russia - 3.7 C Poland - 12.0 C \n"
     ]
    }
   ],
   "source": [
    "countries_temperature = [ \n",
    "    ['Thailand', [75.2, 77, 78.8, 73.4, 68, 75.2, 77]], \n",
    "    ['Germany', [57.2, 55.4, 59, 59, 53.6]], \n",
    "    ['Russia', [35.6, 37.4, 39.2, 41, 42.8, 39.2, 35.6]], \n",
    "    ['Poland', [50, 50, 53.6, 57.2, 55.4, 55.4]] \n",
    "]\n",
    "result = ''\n",
    "for elem in countries_temperature:\n",
    "    tempF = sum(elem[1])/len(elem[1])\n",
    "    tempC = round(((tempF - 32) * 5/9),1)\n",
    "    result += (elem[0] + ' - ' + str(tempC) + ' C ')\n",
    "print(result)"
   ]
  },
  {
   "cell_type": "markdown",
   "metadata": {},
   "source": [
    "## Задание 5 (необязательное)\n",
    "Дан поток логов по количеству просмотренных страниц для каждого пользователя. Вам необходимо написать алгоритм, который считает среднее значение просмотров на пользователя. Т. е. надо посчитать отношение суммы всех просмотров к количеству уникальных пользователей.\n",
    "\n",
    "Примеры работы программы:\n",
    "\n",
    "stream = [\n",
    "‘2018-01-01,user1,3’,\n",
    "‘2018-01-07,user1,4’,\n",
    "‘2018-03-29,user1,1’,\n",
    "‘2018-04-04,user1,13’,\n",
    "‘2018-01-05,user2,7’,\n",
    "‘2018-06-14,user3,4’,\n",
    "‘2018-07-02,user3,10’,\n",
    "‘2018-03-21,user4,19’,\n",
    "‘2018-03-22,user4,4’,\n",
    "‘2018-04-22,user4,8’,\n",
    "‘2018-05-03,user4,9’,\n",
    "‘2018-05-11,user4,11’,\n",
    "]\n",
    "Результат:\n",
    "Среднее количество просмотров на уникального пользователя: 23.25\n",
    "\n",
    "stream = [\n",
    "‘2018-01-01,user100,150’,\n",
    "‘2018-01-07,user99,205’,\n",
    "‘2018-03-29,user1001,81’\n",
    "]\n",
    "Результат:\n",
    "Среднее количество просмотров на уникального пользователя: 145.33"
   ]
  },
  {
   "cell_type": "code",
   "execution_count": 84,
   "metadata": {},
   "outputs": [
    {
     "name": "stdout",
     "output_type": "stream",
     "text": [
      "Среднее количество просмотров на уникального пользователя:  23.25\n"
     ]
    }
   ],
   "source": [
    "stream = [\n",
    "    '2018-01-01,user1,3',\n",
    "    '2018-01-07,user1,4',\n",
    "    '2018-03-29,user1,1',\n",
    "    '2018-04-04,user1,13',\n",
    "    '2018-01-05,user2,7',\n",
    "    '2018-06-14,user3,4',\n",
    "    '2018-07-02,user3,10',\n",
    "    '2018-03-21,user4,19',\n",
    "    '2018-03-22,user4,4',\n",
    "    '2018-04-22,user4,8',\n",
    "    '2018-05-03,user4,9',\n",
    "    '2018-05-11,user4,11',\n",
    "]\n",
    "users_list = []\n",
    "allsum = 0\n",
    "for elem in stream:\n",
    "    pre_list = elem.split(',')\n",
    "    users_list.append(pre_list[1])\n",
    "    allsum += int(pre_list[2])\n",
    "users = set(users_list)\n",
    " \n",
    "print('Среднее количество просмотров на уникального пользователя: ',float(allsum/len(users)))"
   ]
  },
  {
   "cell_type": "markdown",
   "metadata": {},
   "source": [
    "## Задание 6 (необязательное)\n",
    "Необходимо у пользователя запрашивать набор чисел разделенных пробелом. В результате должны выводиться числа, которые повторяются в вводе более одного раза.\n",
    "\n",
    "Примеры работы программы:\n",
    "\n",
    "Введите числа:\n",
    "4 8 0 3 4 2 0 3\n",
    "Результат:\n",
    "0 3 4\n",
    "\n",
    "Введите числа:\n",
    "1 1 2 2 3 3\n",
    "Результат:\n",
    "1 2 3\n",
    "\n",
    "Введите числа:\n",
    "1 1 1 1 1 2 2 2\n",
    "Результат:\n",
    "1 2"
   ]
  },
  {
   "cell_type": "code",
   "execution_count": 80,
   "metadata": {},
   "outputs": [
    {
     "name": "stdout",
     "output_type": "stream",
     "text": [
      "Введите числа: 1 1 1 1 1 2 2 2\n",
      "1 2 \n"
     ]
    }
   ],
   "source": [
    "numbers = input('Введите числа: ')\n",
    "numList = numbers.split(' ')\n",
    "result = ''\n",
    "for elem in set(numList):\n",
    "    if numList.count(elem) > 1:\n",
    "       result += elem + ' ' \n",
    "print(result)"
   ]
  }
 ],
 "metadata": {
  "kernelspec": {
   "display_name": "Python 3",
   "language": "python",
   "name": "python3"
  },
  "language_info": {
   "codemirror_mode": {
    "name": "ipython",
    "version": 3
   },
   "file_extension": ".py",
   "mimetype": "text/x-python",
   "name": "python",
   "nbconvert_exporter": "python",
   "pygments_lexer": "ipython3",
   "version": "3.8.5"
  }
 },
 "nbformat": 4,
 "nbformat_minor": 4
}
