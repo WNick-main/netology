{
 "cells": [
  {
   "cell_type": "markdown",
   "metadata": {},
   "source": [
    "# Домашнее задание к лекции \"Базовые понятия статистики\""
   ]
  },
  {
   "cell_type": "markdown",
   "metadata": {},
   "source": [
    "Будем осуществлять работу с непростым [набором данных](https://raw.githubusercontent.com/obulygin/pyda_homeworks/master/statistics_basics/horse_data.csv) о состоянии здоровья лошадей, испытывающих кишечные колики. Цель – максимально корректно заполнить пропуски.\n",
    "\n",
    "### Задание 1. Загрузка данных\n",
    "\n",
    "Изучить представленный набор данных на основе [описания его столбцов](https://raw.githubusercontent.com/obulygin/pyda_homeworks/master/statistics_basics/horse_data.names), загрузить его и оставить 8 столбцов для дальнейшего изучения: `surgery?`, `Age`, `rectal temperature`, `pulse`, `respiratory rate`, `temperature of extremities`, `pain`, `outcome`. \n",
    "\n",
    "\n",
    "\n",
    "\n"
   ]
  },
  {
   "cell_type": "markdown",
   "metadata": {},
   "source": [
    "  1:  surgery?\n",
    "          - 1 = Yes, it had surgery\n",
    "          - 2 = It was treated without surgery\n",
    "  2:  Age\n",
    "          - 1 = Adult horse\n",
    "          - 2 = Young (< 6 months)\n",
    "  4:  rectal temperature\n",
    "          - linear\n",
    "          - in degrees celsius.\n",
    "          - An elevated temp may occur due to infection.\n",
    "          - temperature may be reduced when the animal is in late shock\n",
    "          - normal temp is 37.8\n",
    "          - this parameter will usually change as the problem progresses\n",
    "               eg. may start out normal, then become elevated because of\n",
    "                   the lesion, passing back through the normal range as the\n",
    "                   horse goes into shock\n",
    "  5:  pulse\n",
    "          - linear\n",
    "          - the heart rate in beats per minute\n",
    "          - is a reflection of the heart condition: 30 -40 is normal for adults\n",
    "          - rare to have a lower than normal rate although athletic horses\n",
    "            may have a rate of 20-25\n",
    "          - animals with painful lesions or suffering from circulatory shock\n",
    "            may have an elevated heart rate \n",
    "  6:  respiratory rate\n",
    "          - linear\n",
    "          - normal rate is 8 to 10\n",
    "          - usefulness is doubtful due to the great fluctuations              \n",
    "  7:  temperature of extremities\n",
    "          - a subjective indication of peripheral circulation\n",
    "          - possible values:\n",
    "               1 = Normal\n",
    "               2 = Warm\n",
    "               3 = Cool\n",
    "               4 = Cold\n",
    "          - cool to cold extremities indicate possible shock\n",
    "          - hot extremities should correlate with an elevated rectal temp.                   \n",
    " 11: pain - a subjective judgement of the horse's pain level\n",
    "          - possible values:\n",
    "               1 = alert, no pain\n",
    "               2 = depressed\n",
    "               3 = intermittent mild pain\n",
    "               4 = intermittent severe pain\n",
    "               5 = continuous severe pain\n",
    "          - should NOT be treated as a ordered or discrete variable!\n",
    "          - In general, the more painful, the more likely it is to require\n",
    "            surgery\n",
    "          - prior treatment of pain may mask the pain level to some extent\n",
    " 23: outcome\n",
    "          - what eventually happened to the horse?\n",
    "          - possible values:\n",
    "               1 = lived\n",
    "               2 = died\n",
    "               3 = was euthanized         "
   ]
  },
  {
   "cell_type": "code",
   "execution_count": 383,
   "metadata": {},
   "outputs": [],
   "source": [
    "import pandas as pd\n",
    "import numpy as np\n",
    "import matplotlib.pyplot as plt"
   ]
  },
  {
   "cell_type": "code",
   "execution_count": 384,
   "metadata": {
    "scrolled": true
   },
   "outputs": [
    {
     "data": {
      "text/html": [
       "<div>\n",
       "<style scoped>\n",
       "    .dataframe tbody tr th:only-of-type {\n",
       "        vertical-align: middle;\n",
       "    }\n",
       "\n",
       "    .dataframe tbody tr th {\n",
       "        vertical-align: top;\n",
       "    }\n",
       "\n",
       "    .dataframe thead th {\n",
       "        text-align: right;\n",
       "    }\n",
       "</style>\n",
       "<table border=\"1\" class=\"dataframe\">\n",
       "  <thead>\n",
       "    <tr style=\"text-align: right;\">\n",
       "      <th></th>\n",
       "      <th>surgery</th>\n",
       "      <th>Age</th>\n",
       "      <th>rectal_temperature</th>\n",
       "      <th>pulse</th>\n",
       "      <th>respiratory_rate</th>\n",
       "      <th>temperature_of_extremities</th>\n",
       "      <th>pain</th>\n",
       "      <th>outcome</th>\n",
       "    </tr>\n",
       "  </thead>\n",
       "  <tbody>\n",
       "    <tr>\n",
       "      <th>0</th>\n",
       "      <td>2</td>\n",
       "      <td>1</td>\n",
       "      <td>38.50</td>\n",
       "      <td>66</td>\n",
       "      <td>28</td>\n",
       "      <td>3</td>\n",
       "      <td>5</td>\n",
       "      <td>2</td>\n",
       "    </tr>\n",
       "    <tr>\n",
       "      <th>1</th>\n",
       "      <td>1</td>\n",
       "      <td>1</td>\n",
       "      <td>39.2</td>\n",
       "      <td>88</td>\n",
       "      <td>20</td>\n",
       "      <td>?</td>\n",
       "      <td>3</td>\n",
       "      <td>3</td>\n",
       "    </tr>\n",
       "    <tr>\n",
       "      <th>2</th>\n",
       "      <td>2</td>\n",
       "      <td>1</td>\n",
       "      <td>38.30</td>\n",
       "      <td>40</td>\n",
       "      <td>24</td>\n",
       "      <td>1</td>\n",
       "      <td>3</td>\n",
       "      <td>1</td>\n",
       "    </tr>\n",
       "    <tr>\n",
       "      <th>3</th>\n",
       "      <td>1</td>\n",
       "      <td>9</td>\n",
       "      <td>39.10</td>\n",
       "      <td>164</td>\n",
       "      <td>84</td>\n",
       "      <td>4</td>\n",
       "      <td>2</td>\n",
       "      <td>2</td>\n",
       "    </tr>\n",
       "    <tr>\n",
       "      <th>4</th>\n",
       "      <td>2</td>\n",
       "      <td>1</td>\n",
       "      <td>37.30</td>\n",
       "      <td>104</td>\n",
       "      <td>35</td>\n",
       "      <td>?</td>\n",
       "      <td>?</td>\n",
       "      <td>2</td>\n",
       "    </tr>\n",
       "  </tbody>\n",
       "</table>\n",
       "</div>"
      ],
      "text/plain": [
       "  surgery  Age rectal_temperature pulse respiratory_rate  \\\n",
       "0       2    1              38.50    66               28   \n",
       "1       1    1               39.2    88               20   \n",
       "2       2    1              38.30    40               24   \n",
       "3       1    9              39.10   164               84   \n",
       "4       2    1              37.30   104               35   \n",
       "\n",
       "  temperature_of_extremities pain outcome  \n",
       "0                          3    5       2  \n",
       "1                          ?    3       3  \n",
       "2                          1    3       1  \n",
       "3                          4    2       2  \n",
       "4                          ?    ?       2  "
      ]
     },
     "execution_count": 384,
     "metadata": {},
     "output_type": "execute_result"
    }
   ],
   "source": [
    "df_inp = pd.read_csv('HW-14 Data\\\\horse_data.csv',\n",
    "                 names=['surgery', 'Age', 't3', 'rectal_temperature', 'pulse',\n",
    "                        'respiratory_rate', 'temperature_of_extremities', 't8', 't9', 't10',\n",
    "                        'pain', 't12', 't13', 't14', 't15',\n",
    "                       't16', 't17', 't18', 't19', 't20',\n",
    "                       't21', 't22', 'outcome', 't24', 't25',\n",
    "                       't26', 't27', 't28'])\n",
    "df = df_inp[['surgery','Age','rectal_temperature','pulse','respiratory_rate',\n",
    "    'temperature_of_extremities','pain','outcome']]\n",
    "df.head() "
   ]
  },
  {
   "cell_type": "code",
   "execution_count": 387,
   "metadata": {
    "scrolled": false
   },
   "outputs": [
    {
     "name": "stdout",
     "output_type": "stream",
     "text": [
      "<class 'pandas.core.frame.DataFrame'>\n",
      "RangeIndex: 300 entries, 0 to 299\n",
      "Data columns (total 8 columns):\n",
      "surgery                       300 non-null object\n",
      "Age                           300 non-null int64\n",
      "rectal_temperature            300 non-null object\n",
      "pulse                         300 non-null object\n",
      "respiratory_rate              300 non-null object\n",
      "temperature_of_extremities    300 non-null object\n",
      "pain                          300 non-null object\n",
      "outcome                       300 non-null object\n",
      "dtypes: int64(1), object(7)\n",
      "memory usage: 18.8+ KB\n"
     ]
    }
   ],
   "source": [
    "df.info()"
   ]
  },
  {
   "cell_type": "code",
   "execution_count": 388,
   "metadata": {},
   "outputs": [
    {
     "data": {
      "text/plain": [
       "array(['28', '20', '24', '84', '35', '?', '16', '36', '12', '52', '48',\n",
       "       '21', '60', '34', '42', '30', '96', '72', '15', '44', '32', '22',\n",
       "       '18', '80', '40', '10', '51', '68', '66', '9', '14', '90', '8',\n",
       "       '23', '58', '13', '70', '26', '88', '25', '50'], dtype=object)"
      ]
     },
     "execution_count": 388,
     "metadata": {},
     "output_type": "execute_result"
    }
   ],
   "source": [
    "df['respiratory_rate'].unique()"
   ]
  },
  {
   "cell_type": "code",
   "execution_count": 389,
   "metadata": {},
   "outputs": [
    {
     "name": "stdout",
     "output_type": "stream",
     "text": [
      "<class 'pandas.core.frame.DataFrame'>\n",
      "RangeIndex: 300 entries, 0 to 299\n",
      "Data columns (total 8 columns):\n",
      "surgery                       299 non-null float64\n",
      "Age                           300 non-null int32\n",
      "rectal_temperature            240 non-null float64\n",
      "pulse                         276 non-null float64\n",
      "respiratory_rate              242 non-null float64\n",
      "temperature_of_extremities    244 non-null float64\n",
      "pain                          245 non-null float64\n",
      "outcome                       299 non-null float64\n",
      "dtypes: float64(7), int32(1)\n",
      "memory usage: 17.7 KB\n"
     ]
    }
   ],
   "source": [
    "df_clear= df.replace({'?': np.NaN}).astype({'surgery': float,'Age': int,'rectal_temperature': float,\n",
    "                                            'pulse': float,'respiratory_rate': float,'temperature_of_extremities': float,\n",
    "                                            'pain': float,'outcome': float})\n",
    "\n",
    "df_clear.info()\n",
    "#.astype({'col1': 'int32'}), 'rectal_temperature': 'float32', 'pulse': 'int32'}"
   ]
  },
  {
   "cell_type": "markdown",
   "metadata": {},
   "source": [
    "### Задание 2. Первичное изучение данных\n",
    "\n",
    "Проанализировать значения по столбцам, рассчитать базовые статистики, найти выбросы."
   ]
  },
  {
   "cell_type": "code",
   "execution_count": 390,
   "metadata": {},
   "outputs": [
    {
     "data": {
      "text/html": [
       "<div>\n",
       "<style scoped>\n",
       "    .dataframe tbody tr th:only-of-type {\n",
       "        vertical-align: middle;\n",
       "    }\n",
       "\n",
       "    .dataframe tbody tr th {\n",
       "        vertical-align: top;\n",
       "    }\n",
       "\n",
       "    .dataframe thead th {\n",
       "        text-align: right;\n",
       "    }\n",
       "</style>\n",
       "<table border=\"1\" class=\"dataframe\">\n",
       "  <thead>\n",
       "    <tr style=\"text-align: right;\">\n",
       "      <th></th>\n",
       "      <th>surgery</th>\n",
       "      <th>Age</th>\n",
       "      <th>rectal_temperature</th>\n",
       "      <th>pulse</th>\n",
       "      <th>respiratory_rate</th>\n",
       "      <th>temperature_of_extremities</th>\n",
       "      <th>pain</th>\n",
       "      <th>outcome</th>\n",
       "    </tr>\n",
       "  </thead>\n",
       "  <tbody>\n",
       "    <tr>\n",
       "      <th>count</th>\n",
       "      <td>299.000000</td>\n",
       "      <td>300.000000</td>\n",
       "      <td>240.000000</td>\n",
       "      <td>276.000000</td>\n",
       "      <td>242.000000</td>\n",
       "      <td>244.000000</td>\n",
       "      <td>245.00000</td>\n",
       "      <td>299.000000</td>\n",
       "    </tr>\n",
       "    <tr>\n",
       "      <th>mean</th>\n",
       "      <td>1.397993</td>\n",
       "      <td>1.640000</td>\n",
       "      <td>38.167917</td>\n",
       "      <td>71.913043</td>\n",
       "      <td>30.417355</td>\n",
       "      <td>2.348361</td>\n",
       "      <td>2.95102</td>\n",
       "      <td>1.551839</td>\n",
       "    </tr>\n",
       "    <tr>\n",
       "      <th>std</th>\n",
       "      <td>0.490305</td>\n",
       "      <td>2.173972</td>\n",
       "      <td>0.732289</td>\n",
       "      <td>28.630557</td>\n",
       "      <td>17.642231</td>\n",
       "      <td>1.045054</td>\n",
       "      <td>1.30794</td>\n",
       "      <td>0.737187</td>\n",
       "    </tr>\n",
       "    <tr>\n",
       "      <th>min</th>\n",
       "      <td>1.000000</td>\n",
       "      <td>1.000000</td>\n",
       "      <td>35.400000</td>\n",
       "      <td>30.000000</td>\n",
       "      <td>8.000000</td>\n",
       "      <td>1.000000</td>\n",
       "      <td>1.00000</td>\n",
       "      <td>1.000000</td>\n",
       "    </tr>\n",
       "    <tr>\n",
       "      <th>25%</th>\n",
       "      <td>1.000000</td>\n",
       "      <td>1.000000</td>\n",
       "      <td>37.800000</td>\n",
       "      <td>48.000000</td>\n",
       "      <td>18.500000</td>\n",
       "      <td>1.000000</td>\n",
       "      <td>2.00000</td>\n",
       "      <td>1.000000</td>\n",
       "    </tr>\n",
       "    <tr>\n",
       "      <th>50%</th>\n",
       "      <td>1.000000</td>\n",
       "      <td>1.000000</td>\n",
       "      <td>38.200000</td>\n",
       "      <td>64.000000</td>\n",
       "      <td>24.500000</td>\n",
       "      <td>3.000000</td>\n",
       "      <td>3.00000</td>\n",
       "      <td>1.000000</td>\n",
       "    </tr>\n",
       "    <tr>\n",
       "      <th>75%</th>\n",
       "      <td>2.000000</td>\n",
       "      <td>1.000000</td>\n",
       "      <td>38.500000</td>\n",
       "      <td>88.000000</td>\n",
       "      <td>36.000000</td>\n",
       "      <td>3.000000</td>\n",
       "      <td>4.00000</td>\n",
       "      <td>2.000000</td>\n",
       "    </tr>\n",
       "    <tr>\n",
       "      <th>max</th>\n",
       "      <td>2.000000</td>\n",
       "      <td>9.000000</td>\n",
       "      <td>40.800000</td>\n",
       "      <td>184.000000</td>\n",
       "      <td>96.000000</td>\n",
       "      <td>4.000000</td>\n",
       "      <td>5.00000</td>\n",
       "      <td>3.000000</td>\n",
       "    </tr>\n",
       "  </tbody>\n",
       "</table>\n",
       "</div>"
      ],
      "text/plain": [
       "          surgery         Age  rectal_temperature       pulse  \\\n",
       "count  299.000000  300.000000          240.000000  276.000000   \n",
       "mean     1.397993    1.640000           38.167917   71.913043   \n",
       "std      0.490305    2.173972            0.732289   28.630557   \n",
       "min      1.000000    1.000000           35.400000   30.000000   \n",
       "25%      1.000000    1.000000           37.800000   48.000000   \n",
       "50%      1.000000    1.000000           38.200000   64.000000   \n",
       "75%      2.000000    1.000000           38.500000   88.000000   \n",
       "max      2.000000    9.000000           40.800000  184.000000   \n",
       "\n",
       "       respiratory_rate  temperature_of_extremities       pain     outcome  \n",
       "count        242.000000                  244.000000  245.00000  299.000000  \n",
       "mean          30.417355                    2.348361    2.95102    1.551839  \n",
       "std           17.642231                    1.045054    1.30794    0.737187  \n",
       "min            8.000000                    1.000000    1.00000    1.000000  \n",
       "25%           18.500000                    1.000000    2.00000    1.000000  \n",
       "50%           24.500000                    3.000000    3.00000    1.000000  \n",
       "75%           36.000000                    3.000000    4.00000    2.000000  \n",
       "max           96.000000                    4.000000    5.00000    3.000000  "
      ]
     },
     "execution_count": 390,
     "metadata": {},
     "output_type": "execute_result"
    }
   ],
   "source": [
    "df_clear[['surgery','Age','rectal_temperature','pulse','respiratory_rate',\n",
    "    'temperature_of_extremities','pain','outcome']].describe()"
   ]
  },
  {
   "cell_type": "code",
   "execution_count": 395,
   "metadata": {},
   "outputs": [
    {
     "name": "stdout",
     "output_type": "stream",
     "text": [
      "71.91304347826087\n",
      "64.0\n",
      "48.0\n",
      "28.630556660735003\n",
      "819.7087747035575\n"
     ]
    }
   ],
   "source": [
    "print(df_clear['pulse'].mean())\n",
    "print(df_clear['pulse'].median())\n",
    "print(df_clear['pulse'].mode()[0])\n",
    "print(df_clear['pulse'].std())\n",
    "print(df_clear['pulse'].var())"
   ]
  },
  {
   "cell_type": "code",
   "execution_count": 396,
   "metadata": {
    "scrolled": true
   },
   "outputs": [
    {
     "name": "stdout",
     "output_type": "stream",
     "text": [
      "surgery  Age  pain\n",
      "1.0      1    1.0     16.0\n",
      "              2.0     36.0\n",
      "              3.0     22.0\n",
      "              4.0     30.0\n",
      "              5.0     30.0\n",
      "         9    2.0     72.0\n",
      "              3.0     40.0\n",
      "              4.0     60.0\n",
      "              5.0     49.0\n",
      "2.0      1    1.0     20.0\n",
      "              2.0     20.0\n",
      "              3.0     25.0\n",
      "              4.0     24.5\n",
      "              5.0     28.0\n",
      "         9    1.0     28.0\n",
      "              4.0     44.0\n",
      "              5.0      NaN\n",
      "Name: respiratory_rate, dtype: float64\n"
     ]
    }
   ],
   "source": [
    "print(df_clear.groupby(['surgery','Age','pain'])['respiratory_rate'].median())\n"
   ]
  },
  {
   "cell_type": "code",
   "execution_count": 397,
   "metadata": {},
   "outputs": [],
   "source": [
    "#print(df_clear.groupby(['surgery','pain'])['outcome'].median())\n",
    "\n",
    "#print(df_clear.groupby(['surgery','Age'])['outcome'].mean())\n",
    "#print(df_clear.groupby(['surgery','Age'])['pulse'].mean()) #!!!\n",
    "#print(df_clear.groupby(['surgery','Age'])['temperature_of_extremities'].mean())\n",
    "#"
   ]
  },
  {
   "cell_type": "code",
   "execution_count": 398,
   "metadata": {
    "scrolled": true
   },
   "outputs": [
    {
     "data": {
      "text/html": [
       "<div>\n",
       "<style scoped>\n",
       "    .dataframe tbody tr th:only-of-type {\n",
       "        vertical-align: middle;\n",
       "    }\n",
       "\n",
       "    .dataframe tbody tr th {\n",
       "        vertical-align: top;\n",
       "    }\n",
       "\n",
       "    .dataframe thead th {\n",
       "        text-align: right;\n",
       "    }\n",
       "</style>\n",
       "<table border=\"1\" class=\"dataframe\">\n",
       "  <thead>\n",
       "    <tr style=\"text-align: right;\">\n",
       "      <th></th>\n",
       "      <th>surgery</th>\n",
       "      <th>Age</th>\n",
       "      <th>rectal_temperature</th>\n",
       "      <th>pulse</th>\n",
       "      <th>respiratory_rate</th>\n",
       "      <th>temperature_of_extremities</th>\n",
       "      <th>pain</th>\n",
       "      <th>outcome</th>\n",
       "    </tr>\n",
       "  </thead>\n",
       "  <tbody>\n",
       "    <tr>\n",
       "      <th>113</th>\n",
       "      <td>1.0</td>\n",
       "      <td>1</td>\n",
       "      <td>36.8</td>\n",
       "      <td>60.0</td>\n",
       "      <td>28.0</td>\n",
       "      <td>NaN</td>\n",
       "      <td>NaN</td>\n",
       "      <td>2.0</td>\n",
       "    </tr>\n",
       "    <tr>\n",
       "      <th>277</th>\n",
       "      <td>2.0</td>\n",
       "      <td>1</td>\n",
       "      <td>36.9</td>\n",
       "      <td>50.0</td>\n",
       "      <td>40.0</td>\n",
       "      <td>2.0</td>\n",
       "      <td>1.0</td>\n",
       "      <td>1.0</td>\n",
       "    </tr>\n",
       "    <tr>\n",
       "      <th>70</th>\n",
       "      <td>2.0</td>\n",
       "      <td>1</td>\n",
       "      <td>37.0</td>\n",
       "      <td>60.0</td>\n",
       "      <td>20.0</td>\n",
       "      <td>3.0</td>\n",
       "      <td>3.0</td>\n",
       "      <td>3.0</td>\n",
       "    </tr>\n",
       "    <tr>\n",
       "      <th>292</th>\n",
       "      <td>1.0</td>\n",
       "      <td>1</td>\n",
       "      <td>37.0</td>\n",
       "      <td>66.0</td>\n",
       "      <td>20.0</td>\n",
       "      <td>1.0</td>\n",
       "      <td>4.0</td>\n",
       "      <td>2.0</td>\n",
       "    </tr>\n",
       "    <tr>\n",
       "      <th>190</th>\n",
       "      <td>1.0</td>\n",
       "      <td>1</td>\n",
       "      <td>37.1</td>\n",
       "      <td>40.0</td>\n",
       "      <td>8.0</td>\n",
       "      <td>NaN</td>\n",
       "      <td>3.0</td>\n",
       "      <td>1.0</td>\n",
       "    </tr>\n",
       "  </tbody>\n",
       "</table>\n",
       "</div>"
      ],
      "text/plain": [
       "     surgery  Age  rectal_temperature  pulse  respiratory_rate  \\\n",
       "113      1.0    1                36.8   60.0              28.0   \n",
       "277      2.0    1                36.9   50.0              40.0   \n",
       "70       2.0    1                37.0   60.0              20.0   \n",
       "292      1.0    1                37.0   66.0              20.0   \n",
       "190      1.0    1                37.1   40.0               8.0   \n",
       "\n",
       "     temperature_of_extremities  pain  outcome  \n",
       "113                         NaN   NaN      2.0  \n",
       "277                         2.0   1.0      1.0  \n",
       "70                          3.0   3.0      3.0  \n",
       "292                         1.0   4.0      2.0  \n",
       "190                         NaN   3.0      1.0  "
      ]
     },
     "execution_count": 398,
     "metadata": {},
     "output_type": "execute_result"
    }
   ],
   "source": [
    "q1 = df_clear['rectal_temperature'].quantile(0.25)\n",
    "q3 = df_clear['rectal_temperature'].quantile(0.75)\n",
    "iqr = q3 - q1\n",
    "lower_bound = q1 - (1.5 * iqr)\n",
    "upper_bound = q3 + (1.5 * iqr)\n",
    "remove_outliers = df_clear[df_clear['rectal_temperature'].between(lower_bound, upper_bound, inclusive=True)].sort_values('rectal_temperature')\n",
    "remove_outliers.head()"
   ]
  },
  {
   "cell_type": "code",
   "execution_count": 399,
   "metadata": {},
   "outputs": [],
   "source": [
    "#pd.concat([df_clear,remove_outliers]).drop_duplicates(keep=False)"
   ]
  },
  {
   "cell_type": "code",
   "execution_count": 400,
   "metadata": {},
   "outputs": [
    {
     "name": "stdout",
     "output_type": "stream",
     "text": [
      "              mode      Mean  Count\n",
      "surgery pain                       \n",
      "1.0     1.0    1.0  1.000000    9.0\n",
      "        2.0    1.0  1.794118   34.0\n",
      "        3.0    1.0  1.179487   39.0\n",
      "        4.0    2.0  1.892857   28.0\n",
      "        5.0    2.0  1.878788   33.0\n",
      "2.0     1.0    1.0  1.137931   29.0\n",
      "        2.0    1.0  1.440000   25.0\n",
      "        3.0    1.0  1.392857   28.0\n",
      "        4.0    3.0  2.400000   10.0\n",
      "        5.0    2.0  1.777778    9.0\n"
     ]
    },
    {
     "name": "stderr",
     "output_type": "stream",
     "text": [
      "C:\\ProgramData\\Anaconda3\\lib\\site-packages\\ipykernel_launcher.py:1: FutureWarning: using a dict on a Series for aggregation\n",
      "is deprecated and will be removed in a future version\n",
      "  \"\"\"Entry point for launching an IPython kernel.\n"
     ]
    }
   ],
   "source": [
    "print(df_clear.groupby(['surgery','pain'])['outcome'].agg({'mode':pd.Series.mode,'Mean':np.mean, 'Count': pd.Series.count}))\n"
   ]
  },
  {
   "cell_type": "markdown",
   "metadata": {},
   "source": [
    "### Задание 3. Работа с пропусками\n",
    "\n",
    "Рассчитать количество пропусков для всех выбранных столбцов. Принять и обосновать решение о методе заполнения пропусков по каждому столбцу на основе рассчитанных статистик и возможной взаимосвязи значений в них. Сформировать датафрейм, в котором пропуски будут отсутствовать."
   ]
  },
  {
   "cell_type": "code",
   "execution_count": 401,
   "metadata": {},
   "outputs": [
    {
     "data": {
      "text/plain": [
       "surgery                        0.33\n",
       "Age                            0.00\n",
       "rectal_temperature            20.00\n",
       "pulse                          8.00\n",
       "respiratory_rate              19.33\n",
       "temperature_of_extremities    18.67\n",
       "pain                          18.33\n",
       "outcome                        0.33\n",
       "dtype: float64"
      ]
     },
     "execution_count": 401,
     "metadata": {},
     "output_type": "execute_result"
    }
   ],
   "source": [
    "(df_clear.isna().mean() * 100).round(2)"
   ]
  },
  {
   "cell_type": "code",
   "execution_count": 402,
   "metadata": {},
   "outputs": [],
   "source": [
    "# Удаляем записи с большим количеством пропусков\n",
    "df_clear1 = df_clear.dropna(thresh=6)\n",
    "# Эти столбцы ключевые для дальнейшего рассмотрения, \n",
    "# пустые значения в 2-х их них не позволяют нормально заполнить пропуски\n",
    "df_clear2 = df_clear1.dropna(subset=['rectal_temperature','pulse','respiratory_rate'],thresh=2)"
   ]
  },
  {
   "cell_type": "code",
   "execution_count": 403,
   "metadata": {},
   "outputs": [
    {
     "data": {
      "text/plain": [
       "surgery                        0.38\n",
       "Age                            0.00\n",
       "rectal_temperature            10.31\n",
       "pulse                          1.15\n",
       "respiratory_rate               9.54\n",
       "temperature_of_extremities    16.03\n",
       "pain                          15.27\n",
       "outcome                        0.38\n",
       "dtype: float64"
      ]
     },
     "execution_count": 403,
     "metadata": {},
     "output_type": "execute_result"
    }
   ],
   "source": [
    "(df_clear2.isna().mean() * 100).round(2)"
   ]
  },
  {
   "cell_type": "code",
   "execution_count": 404,
   "metadata": {
    "scrolled": true
   },
   "outputs": [
    {
     "name": "stdout",
     "output_type": "stream",
     "text": [
      "Age  pain  surgery\n",
      "1    1.0   1.0         8\n",
      "           2.0        27\n",
      "     2.0   1.0        28\n",
      "           2.0        23\n",
      "     3.0   1.0        34\n",
      "           2.0        26\n",
      "     4.0   1.0        22\n",
      "           2.0         8\n",
      "     5.0   1.0        24\n",
      "           2.0         4\n",
      "9    1.0   2.0         1\n",
      "     2.0   1.0         5\n",
      "     3.0   1.0         5\n",
      "     4.0   1.0         2\n",
      "           2.0         1\n",
      "     5.0   1.0         2\n",
      "           2.0         1\n",
      "Name: surgery, dtype: int64\n"
     ]
    },
    {
     "name": "stderr",
     "output_type": "stream",
     "text": [
      "C:\\ProgramData\\Anaconda3\\lib\\site-packages\\pandas\\core\\generic.py:6130: SettingWithCopyWarning: \n",
      "A value is trying to be set on a copy of a slice from a DataFrame\n",
      "\n",
      "See the caveats in the documentation: http://pandas.pydata.org/pandas-docs/stable/indexing.html#indexing-view-versus-copy\n",
      "  self._update_inplace(new_data)\n"
     ]
    }
   ],
   "source": [
    "print(df_clear2.groupby(['Age','pain','surgery'])['surgery'].count())\n",
    "\n",
    "# По сути заменяем одну запись, основную роль играет pain и temperature_of_extremities. \n",
    "#С такими показателями, пусть и более-менее нормальным дыханием и пульсом вероятность такого исхода велика.\n",
    "df_clear2['surgery'].fillna(df_clear2.groupby(['Age','pain'])['surgery'].transform('median'),inplace=True)\n",
    "df_clear2['outcome'].fillna(df_clear2.groupby(['Age','pain'])['outcome'].transform('median'),inplace=True)\n"
   ]
  },
  {
   "cell_type": "code",
   "execution_count": 405,
   "metadata": {},
   "outputs": [
    {
     "data": {
      "text/plain": [
       "surgery                        0.00\n",
       "Age                            0.00\n",
       "rectal_temperature            10.31\n",
       "pulse                          1.15\n",
       "respiratory_rate               9.54\n",
       "temperature_of_extremities    16.03\n",
       "pain                          15.27\n",
       "outcome                        0.00\n",
       "dtype: float64"
      ]
     },
     "execution_count": 405,
     "metadata": {},
     "output_type": "execute_result"
    }
   ],
   "source": [
    "(df_clear2.isna().mean() * 100).round(2)"
   ]
  },
  {
   "cell_type": "code",
   "execution_count": 406,
   "metadata": {},
   "outputs": [
    {
     "name": "stderr",
     "output_type": "stream",
     "text": [
      "C:\\ProgramData\\Anaconda3\\lib\\site-packages\\ipykernel_launcher.py:7: SettingWithCopyWarning: \n",
      "A value is trying to be set on a copy of a slice from a DataFrame.\n",
      "Try using .loc[row_indexer,col_indexer] = value instead\n",
      "\n",
      "See the caveats in the documentation: http://pandas.pydata.org/pandas-docs/stable/indexing.html#indexing-view-versus-copy\n",
      "  import sys\n",
      "C:\\ProgramData\\Anaconda3\\lib\\site-packages\\ipykernel_launcher.py:14: SettingWithCopyWarning: \n",
      "A value is trying to be set on a copy of a slice from a DataFrame.\n",
      "Try using .loc[row_indexer,col_indexer] = value instead\n",
      "\n",
      "See the caveats in the documentation: http://pandas.pydata.org/pandas-docs/stable/indexing.html#indexing-view-versus-copy\n",
      "  \n",
      "C:\\ProgramData\\Anaconda3\\lib\\site-packages\\ipykernel_launcher.py:21: SettingWithCopyWarning: \n",
      "A value is trying to be set on a copy of a slice from a DataFrame.\n",
      "Try using .loc[row_indexer,col_indexer] = value instead\n",
      "\n",
      "See the caveats in the documentation: http://pandas.pydata.org/pandas-docs/stable/indexing.html#indexing-view-versus-copy\n"
     ]
    }
   ],
   "source": [
    "# Для лучшего ориентирования разбиваю числовые показатели на группы\n",
    "cut_labels = ['norm', 'hi', 'extr']\n",
    "cut_bins = [0, 50, 70, 200]\n",
    "\n",
    "df_clear2['cut_pulse'] = pd.cut(df_clear2['pulse'],\n",
    "                       bins=cut_bins,\n",
    "                       labels=cut_labels)\n",
    "# -----------------------------------------------\n",
    "cut_labels = ['norm', 'hi', 'extr']\n",
    "cut_bins = [0, 18, 42 ,200]\n",
    "\n",
    "df_clear2['cut_resp'] = pd.cut(df_clear2['respiratory_rate'],\n",
    "                                       bins=cut_bins,\n",
    "                                       labels=cut_labels)\n",
    "# -----------------------------------------------\n",
    "cut_labels = ['low','norm', 'hi', 'extr']\n",
    "cut_bins = [0, 37.4, 38.2 , 38.9, 200]\n",
    "\n",
    "df_clear2['cut_temp'] = pd.cut(df_clear2['rectal_temperature'],\n",
    "                                       bins=cut_bins,\n",
    "                                       labels=cut_labels)"
   ]
  },
  {
   "cell_type": "code",
   "execution_count": 407,
   "metadata": {},
   "outputs": [
    {
     "data": {
      "text/html": [
       "<div>\n",
       "<style scoped>\n",
       "    .dataframe tbody tr th:only-of-type {\n",
       "        vertical-align: middle;\n",
       "    }\n",
       "\n",
       "    .dataframe tbody tr th {\n",
       "        vertical-align: top;\n",
       "    }\n",
       "\n",
       "    .dataframe thead th {\n",
       "        text-align: right;\n",
       "    }\n",
       "</style>\n",
       "<table border=\"1\" class=\"dataframe\">\n",
       "  <thead>\n",
       "    <tr style=\"text-align: right;\">\n",
       "      <th></th>\n",
       "      <th>surgery</th>\n",
       "      <th>Age</th>\n",
       "      <th>rectal_temperature</th>\n",
       "      <th>pulse</th>\n",
       "      <th>respiratory_rate</th>\n",
       "      <th>temperature_of_extremities</th>\n",
       "      <th>pain</th>\n",
       "      <th>outcome</th>\n",
       "      <th>cut_pulse</th>\n",
       "      <th>cut_resp</th>\n",
       "      <th>cut_temp</th>\n",
       "    </tr>\n",
       "  </thead>\n",
       "  <tbody>\n",
       "    <tr>\n",
       "      <th>0</th>\n",
       "      <td>2.0</td>\n",
       "      <td>1</td>\n",
       "      <td>38.5</td>\n",
       "      <td>66.0</td>\n",
       "      <td>28.0</td>\n",
       "      <td>3.0</td>\n",
       "      <td>5.0</td>\n",
       "      <td>2.0</td>\n",
       "      <td>hi</td>\n",
       "      <td>hi</td>\n",
       "      <td>hi</td>\n",
       "    </tr>\n",
       "    <tr>\n",
       "      <th>1</th>\n",
       "      <td>1.0</td>\n",
       "      <td>1</td>\n",
       "      <td>39.2</td>\n",
       "      <td>88.0</td>\n",
       "      <td>20.0</td>\n",
       "      <td>NaN</td>\n",
       "      <td>3.0</td>\n",
       "      <td>3.0</td>\n",
       "      <td>extr</td>\n",
       "      <td>hi</td>\n",
       "      <td>extr</td>\n",
       "    </tr>\n",
       "    <tr>\n",
       "      <th>2</th>\n",
       "      <td>2.0</td>\n",
       "      <td>1</td>\n",
       "      <td>38.3</td>\n",
       "      <td>40.0</td>\n",
       "      <td>24.0</td>\n",
       "      <td>1.0</td>\n",
       "      <td>3.0</td>\n",
       "      <td>1.0</td>\n",
       "      <td>norm</td>\n",
       "      <td>hi</td>\n",
       "      <td>hi</td>\n",
       "    </tr>\n",
       "    <tr>\n",
       "      <th>3</th>\n",
       "      <td>1.0</td>\n",
       "      <td>9</td>\n",
       "      <td>39.1</td>\n",
       "      <td>164.0</td>\n",
       "      <td>84.0</td>\n",
       "      <td>4.0</td>\n",
       "      <td>2.0</td>\n",
       "      <td>2.0</td>\n",
       "      <td>extr</td>\n",
       "      <td>extr</td>\n",
       "      <td>extr</td>\n",
       "    </tr>\n",
       "    <tr>\n",
       "      <th>4</th>\n",
       "      <td>2.0</td>\n",
       "      <td>1</td>\n",
       "      <td>37.3</td>\n",
       "      <td>104.0</td>\n",
       "      <td>35.0</td>\n",
       "      <td>NaN</td>\n",
       "      <td>NaN</td>\n",
       "      <td>2.0</td>\n",
       "      <td>extr</td>\n",
       "      <td>hi</td>\n",
       "      <td>low</td>\n",
       "    </tr>\n",
       "  </tbody>\n",
       "</table>\n",
       "</div>"
      ],
      "text/plain": [
       "   surgery  Age  rectal_temperature  pulse  respiratory_rate  \\\n",
       "0      2.0    1                38.5   66.0              28.0   \n",
       "1      1.0    1                39.2   88.0              20.0   \n",
       "2      2.0    1                38.3   40.0              24.0   \n",
       "3      1.0    9                39.1  164.0              84.0   \n",
       "4      2.0    1                37.3  104.0              35.0   \n",
       "\n",
       "   temperature_of_extremities  pain  outcome cut_pulse cut_resp cut_temp  \n",
       "0                         3.0   5.0      2.0        hi       hi       hi  \n",
       "1                         NaN   3.0      3.0      extr       hi     extr  \n",
       "2                         1.0   3.0      1.0      norm       hi       hi  \n",
       "3                         4.0   2.0      2.0      extr     extr     extr  \n",
       "4                         NaN   NaN      2.0      extr       hi      low  "
      ]
     },
     "execution_count": 407,
     "metadata": {},
     "output_type": "execute_result"
    }
   ],
   "source": [
    "df_clear2.head()"
   ]
  },
  {
   "cell_type": "code",
   "execution_count": 408,
   "metadata": {},
   "outputs": [
    {
     "name": "stdout",
     "output_type": "stream",
     "text": [
      "Age  surgery  pain\n",
      "1    1.0      1.0      8\n",
      "              2.0     28\n",
      "              3.0     34\n",
      "              4.0     23\n",
      "              5.0     24\n",
      "     2.0      1.0     27\n",
      "              2.0     23\n",
      "              3.0     26\n",
      "              4.0      8\n",
      "              5.0      4\n",
      "9    1.0      2.0      5\n",
      "              3.0      5\n",
      "              4.0      2\n",
      "              5.0      2\n",
      "     2.0      1.0      1\n",
      "              4.0      1\n",
      "              5.0      1\n",
      "Name: pain, dtype: int64\n"
     ]
    }
   ],
   "source": [
    "print(df_clear2.groupby(['Age','surgery','pain'])['pain'].count())\n",
    "#Явно прослеживается связь между уровнем боли и проведением операции, \n",
    "#но методов однозначного определения значения для замены не вижу, потому устанаваливается значение N/A\n",
    "df_clear2['pain'].fillna('N/A',inplace=True)"
   ]
  },
  {
   "cell_type": "code",
   "execution_count": 409,
   "metadata": {},
   "outputs": [],
   "source": [
    "#print(df_clear2.groupby(['surgery','cut_temp','temperature_of_extremities'])['temperature_of_extremities'].count())\n",
    "#Прослеживается связь температуры конечностей  с ректальной температурой в зависимости от наличия операции\n",
    "df_clear2['temperature_of_extremities'].fillna(df_clear2.groupby(['surgery','cut_temp'])['temperature_of_extremities'].transform('median'),inplace=True)"
   ]
  },
  {
   "cell_type": "code",
   "execution_count": 410,
   "metadata": {
    "scrolled": true
   },
   "outputs": [],
   "source": [
    "#print(df_clear2.groupby(['surgery','cut_pulse','cut_temp'])['rectal_temperature'].count())\n",
    "# Связь в разрезе пульса и наличия операции\n",
    "df_clear2['rectal_temperature'].fillna(df_clear2.groupby(['surgery','cut_pulse'])['rectal_temperature'].transform('median'),inplace=True)"
   ]
  },
  {
   "cell_type": "code",
   "execution_count": 411,
   "metadata": {
    "scrolled": true
   },
   "outputs": [],
   "source": [
    "#print(df_clear2.groupby(['surgery','cut_pulse','cut_resp'])['rectal_temperature'].count())\n",
    "# Также связь в разрезе пульса и наличия операции\n",
    "df_clear2['respiratory_rate'].fillna(df_clear2.groupby(['surgery','cut_pulse'])['respiratory_rate'].transform('median'),inplace=True)"
   ]
  },
  {
   "cell_type": "code",
   "execution_count": 412,
   "metadata": {},
   "outputs": [],
   "source": [
    "#print(df_clear2.groupby(['surgery','cut_resp','cut_temp','cut_pulse'])['cut_pulse'].count())\n",
    "df_clear2['pulse'].fillna(df_clear2.groupby(['surgery','cut_resp','cut_temp'])['pulse'].transform('median'),inplace=True)"
   ]
  },
  {
   "cell_type": "code",
   "execution_count": 413,
   "metadata": {},
   "outputs": [
    {
     "data": {
      "text/plain": [
       "surgery                        0.00\n",
       "Age                            0.00\n",
       "rectal_temperature             0.00\n",
       "pulse                          0.00\n",
       "respiratory_rate               0.00\n",
       "temperature_of_extremities     0.76\n",
       "pain                           0.00\n",
       "outcome                        0.00\n",
       "cut_pulse                      1.15\n",
       "cut_resp                       9.54\n",
       "cut_temp                      10.31\n",
       "dtype: float64"
      ]
     },
     "execution_count": 413,
     "metadata": {},
     "output_type": "execute_result"
    }
   ],
   "source": [
    "(df_clear2.isna().mean() * 100).round(2)"
   ]
  },
  {
   "cell_type": "code",
   "execution_count": 414,
   "metadata": {},
   "outputs": [
    {
     "name": "stderr",
     "output_type": "stream",
     "text": [
      "C:\\ProgramData\\Anaconda3\\lib\\site-packages\\ipykernel_launcher.py:7: SettingWithCopyWarning: \n",
      "A value is trying to be set on a copy of a slice from a DataFrame.\n",
      "Try using .loc[row_indexer,col_indexer] = value instead\n",
      "\n",
      "See the caveats in the documentation: http://pandas.pydata.org/pandas-docs/stable/indexing.html#indexing-view-versus-copy\n",
      "  import sys\n",
      "C:\\ProgramData\\Anaconda3\\lib\\site-packages\\ipykernel_launcher.py:14: SettingWithCopyWarning: \n",
      "A value is trying to be set on a copy of a slice from a DataFrame.\n",
      "Try using .loc[row_indexer,col_indexer] = value instead\n",
      "\n",
      "See the caveats in the documentation: http://pandas.pydata.org/pandas-docs/stable/indexing.html#indexing-view-versus-copy\n",
      "  \n",
      "C:\\ProgramData\\Anaconda3\\lib\\site-packages\\ipykernel_launcher.py:21: SettingWithCopyWarning: \n",
      "A value is trying to be set on a copy of a slice from a DataFrame.\n",
      "Try using .loc[row_indexer,col_indexer] = value instead\n",
      "\n",
      "See the caveats in the documentation: http://pandas.pydata.org/pandas-docs/stable/indexing.html#indexing-view-versus-copy\n"
     ]
    }
   ],
   "source": [
    "# Повторяем группировку на уже восстановленных данных и накатываем повторно расчет для temperature_of_extremities\n",
    "cut_labels = ['norm', 'hi', 'extr']\n",
    "cut_bins = [0, 50, 70, 200]\n",
    "\n",
    "df_clear2['cut_pulse'] = pd.cut(df_clear2['pulse'],\n",
    "                       bins=cut_bins,\n",
    "                       labels=cut_labels)\n",
    "# -----------------------------------------------\n",
    "cut_labels = ['norm', 'hi', 'extr']\n",
    "cut_bins = [0, 18, 42 ,200]\n",
    "\n",
    "df_clear2['cut_resp'] = pd.cut(df_clear2['respiratory_rate'],\n",
    "                                       bins=cut_bins,\n",
    "                                       labels=cut_labels)\n",
    "# -----------------------------------------------\n",
    "cut_labels = ['low','norm', 'hi', 'extr']\n",
    "cut_bins = [0, 37.4, 38.2 , 38.9, 200]\n",
    "\n",
    "df_clear2['cut_temp'] = pd.cut(df_clear2['rectal_temperature'],\n",
    "                                       bins=cut_bins,\n",
    "                                       labels=cut_labels)\n",
    "# -----------------------------------------------\n",
    "df_clear2['temperature_of_extremities'].fillna(df_clear2.groupby(['surgery','cut_temp'])['temperature_of_extremities'].transform('median'),inplace=True)"
   ]
  },
  {
   "cell_type": "code",
   "execution_count": 415,
   "metadata": {},
   "outputs": [
    {
     "data": {
      "text/plain": [
       "surgery                       0.0\n",
       "Age                           0.0\n",
       "rectal_temperature            0.0\n",
       "pulse                         0.0\n",
       "respiratory_rate              0.0\n",
       "temperature_of_extremities    0.0\n",
       "pain                          0.0\n",
       "outcome                       0.0\n",
       "cut_pulse                     0.0\n",
       "cut_resp                      0.0\n",
       "cut_temp                      0.0\n",
       "dtype: float64"
      ]
     },
     "execution_count": 415,
     "metadata": {},
     "output_type": "execute_result"
    }
   ],
   "source": [
    "(df_clear2.isna().mean() * 100).round(2)"
   ]
  },
  {
   "cell_type": "code",
   "execution_count": 416,
   "metadata": {},
   "outputs": [
    {
     "name": "stdout",
     "output_type": "stream",
     "text": [
      "<class 'pandas.core.frame.DataFrame'>\n",
      "Int64Index: 262 entries, 0 to 299\n",
      "Data columns (total 11 columns):\n",
      "surgery                       262 non-null float64\n",
      "Age                           262 non-null int32\n",
      "rectal_temperature            262 non-null float64\n",
      "pulse                         262 non-null float64\n",
      "respiratory_rate              262 non-null float64\n",
      "temperature_of_extremities    262 non-null float64\n",
      "pain                          262 non-null object\n",
      "outcome                       262 non-null float64\n",
      "cut_pulse                     262 non-null category\n",
      "cut_resp                      262 non-null category\n",
      "cut_temp                      262 non-null category\n",
      "dtypes: category(3), float64(6), int32(1), object(1)\n",
      "memory usage: 18.6+ KB\n"
     ]
    }
   ],
   "source": [
    "df_clear2.info()"
   ]
  },
  {
   "cell_type": "code",
   "execution_count": 417,
   "metadata": {},
   "outputs": [
    {
     "data": {
      "text/html": [
       "<div>\n",
       "<style scoped>\n",
       "    .dataframe tbody tr th:only-of-type {\n",
       "        vertical-align: middle;\n",
       "    }\n",
       "\n",
       "    .dataframe tbody tr th {\n",
       "        vertical-align: top;\n",
       "    }\n",
       "\n",
       "    .dataframe thead th {\n",
       "        text-align: right;\n",
       "    }\n",
       "</style>\n",
       "<table border=\"1\" class=\"dataframe\">\n",
       "  <thead>\n",
       "    <tr style=\"text-align: right;\">\n",
       "      <th></th>\n",
       "      <th>surgery</th>\n",
       "      <th>Age</th>\n",
       "      <th>rectal_temperature</th>\n",
       "      <th>pulse</th>\n",
       "      <th>respiratory_rate</th>\n",
       "      <th>temperature_of_extremities</th>\n",
       "      <th>pain</th>\n",
       "      <th>outcome</th>\n",
       "    </tr>\n",
       "  </thead>\n",
       "  <tbody>\n",
       "    <tr>\n",
       "      <th>count</th>\n",
       "      <td>299.000000</td>\n",
       "      <td>300.000000</td>\n",
       "      <td>240.000000</td>\n",
       "      <td>276.000000</td>\n",
       "      <td>242.000000</td>\n",
       "      <td>244.000000</td>\n",
       "      <td>245.00000</td>\n",
       "      <td>299.000000</td>\n",
       "    </tr>\n",
       "    <tr>\n",
       "      <th>mean</th>\n",
       "      <td>1.397993</td>\n",
       "      <td>1.640000</td>\n",
       "      <td>38.167917</td>\n",
       "      <td>71.913043</td>\n",
       "      <td>30.417355</td>\n",
       "      <td>2.348361</td>\n",
       "      <td>2.95102</td>\n",
       "      <td>1.551839</td>\n",
       "    </tr>\n",
       "    <tr>\n",
       "      <th>std</th>\n",
       "      <td>0.490305</td>\n",
       "      <td>2.173972</td>\n",
       "      <td>0.732289</td>\n",
       "      <td>28.630557</td>\n",
       "      <td>17.642231</td>\n",
       "      <td>1.045054</td>\n",
       "      <td>1.30794</td>\n",
       "      <td>0.737187</td>\n",
       "    </tr>\n",
       "    <tr>\n",
       "      <th>min</th>\n",
       "      <td>1.000000</td>\n",
       "      <td>1.000000</td>\n",
       "      <td>35.400000</td>\n",
       "      <td>30.000000</td>\n",
       "      <td>8.000000</td>\n",
       "      <td>1.000000</td>\n",
       "      <td>1.00000</td>\n",
       "      <td>1.000000</td>\n",
       "    </tr>\n",
       "    <tr>\n",
       "      <th>25%</th>\n",
       "      <td>1.000000</td>\n",
       "      <td>1.000000</td>\n",
       "      <td>37.800000</td>\n",
       "      <td>48.000000</td>\n",
       "      <td>18.500000</td>\n",
       "      <td>1.000000</td>\n",
       "      <td>2.00000</td>\n",
       "      <td>1.000000</td>\n",
       "    </tr>\n",
       "    <tr>\n",
       "      <th>50%</th>\n",
       "      <td>1.000000</td>\n",
       "      <td>1.000000</td>\n",
       "      <td>38.200000</td>\n",
       "      <td>64.000000</td>\n",
       "      <td>24.500000</td>\n",
       "      <td>3.000000</td>\n",
       "      <td>3.00000</td>\n",
       "      <td>1.000000</td>\n",
       "    </tr>\n",
       "    <tr>\n",
       "      <th>75%</th>\n",
       "      <td>2.000000</td>\n",
       "      <td>1.000000</td>\n",
       "      <td>38.500000</td>\n",
       "      <td>88.000000</td>\n",
       "      <td>36.000000</td>\n",
       "      <td>3.000000</td>\n",
       "      <td>4.00000</td>\n",
       "      <td>2.000000</td>\n",
       "    </tr>\n",
       "    <tr>\n",
       "      <th>max</th>\n",
       "      <td>2.000000</td>\n",
       "      <td>9.000000</td>\n",
       "      <td>40.800000</td>\n",
       "      <td>184.000000</td>\n",
       "      <td>96.000000</td>\n",
       "      <td>4.000000</td>\n",
       "      <td>5.00000</td>\n",
       "      <td>3.000000</td>\n",
       "    </tr>\n",
       "  </tbody>\n",
       "</table>\n",
       "</div>"
      ],
      "text/plain": [
       "          surgery         Age  rectal_temperature       pulse  \\\n",
       "count  299.000000  300.000000          240.000000  276.000000   \n",
       "mean     1.397993    1.640000           38.167917   71.913043   \n",
       "std      0.490305    2.173972            0.732289   28.630557   \n",
       "min      1.000000    1.000000           35.400000   30.000000   \n",
       "25%      1.000000    1.000000           37.800000   48.000000   \n",
       "50%      1.000000    1.000000           38.200000   64.000000   \n",
       "75%      2.000000    1.000000           38.500000   88.000000   \n",
       "max      2.000000    9.000000           40.800000  184.000000   \n",
       "\n",
       "       respiratory_rate  temperature_of_extremities       pain     outcome  \n",
       "count        242.000000                  244.000000  245.00000  299.000000  \n",
       "mean          30.417355                    2.348361    2.95102    1.551839  \n",
       "std           17.642231                    1.045054    1.30794    0.737187  \n",
       "min            8.000000                    1.000000    1.00000    1.000000  \n",
       "25%           18.500000                    1.000000    2.00000    1.000000  \n",
       "50%           24.500000                    3.000000    3.00000    1.000000  \n",
       "75%           36.000000                    3.000000    4.00000    2.000000  \n",
       "max           96.000000                    4.000000    5.00000    3.000000  "
      ]
     },
     "execution_count": 417,
     "metadata": {},
     "output_type": "execute_result"
    }
   ],
   "source": [
    "df_clear2[['surgery','Age','rectal_temperature','pulse','respiratory_rate',\n",
    "    'temperature_of_extremities','pain','outcome']].describe()"
   ]
  },
  {
   "cell_type": "code",
   "execution_count": 420,
   "metadata": {
    "scrolled": true
   },
   "outputs": [
    {
     "name": "stdout",
     "output_type": "stream",
     "text": [
      "71.09541984732824\n",
      "64.0\n",
      "48.0\n",
      "28.45219251016187\n",
      "809.5272586353111\n"
     ]
    }
   ],
   "source": [
    "print(df_clear2['pulse'].mean())\n",
    "print(df_clear2['pulse'].median())\n",
    "print(df_clear2['pulse'].mode()[0])\n",
    "print(df_clear2['pulse'].std())\n",
    "print(df_clear2['pulse'].var())"
   ]
  }
 ],
 "metadata": {
  "kernelspec": {
   "display_name": "Python 3",
   "language": "python",
   "name": "python3"
  },
  "language_info": {
   "codemirror_mode": {
    "name": "ipython",
    "version": 3
   },
   "file_extension": ".py",
   "mimetype": "text/x-python",
   "name": "python",
   "nbconvert_exporter": "python",
   "pygments_lexer": "ipython3",
   "version": "3.8.8"
  }
 },
 "nbformat": 4,
 "nbformat_minor": 2
}
