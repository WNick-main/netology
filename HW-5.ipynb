{
 "cells": [
  {
   "cell_type": "markdown",
   "metadata": {},
   "source": [
    "### Оглавление:\n",
    "[Задание 1](#task1)\n",
    "\n",
    "[Задание 2](#task2)"
   ]
  },
  {
   "cell_type": "markdown",
   "metadata": {},
   "source": [
    "## Задание 1\n",
    "<a id=task1></a>\n",
    "Переведите содержимое файла purchase_log.txt в словарь purchases вида:\n",
    "{‘1840e0b9d4’: ‘Продукты’, …}"
   ]
  },
  {
   "cell_type": "code",
   "execution_count": 144,
   "metadata": {},
   "outputs": [
    {
     "name": "stdout",
     "output_type": "stream",
     "text": [
      "99517\n"
     ]
    }
   ],
   "source": [
    "import json\n",
    "\n",
    "purchases = dict()\n",
    "with open(r'C:\\Users\\WNick\\Python\\netology\\HW-5 data\\purchase_log.txt','r', encoding='utf-8') as f:\n",
    "    content = f.readlines()\n",
    "for i, line in enumerate(content):\n",
    "    if i != 0:\n",
    "        preDict = list(json.loads(line).values())\n",
    "        purchases[preDict[0]] = preDict[1]"
   ]
  },
  {
   "cell_type": "markdown",
   "metadata": {},
   "source": [
    "## Задание 2\n",
    "<a id=task2></a>\n",
    "Для каждого user_id в файле visit_log.csv определите третий столбец с категорией покупки (если покупка была, сам файл visit_log.csv изменять не надо). Запишите в файл funnel.csv визиты из файла visit_log.csv, в которых были покупки с указанием категории.\n",
    "Учтите условия на данные:\n",
    "содержимое purchase_log.txt помещается в оперативную память компьютера\n",
    "содержимое visit_log.csv - нет; используйте только построчную обработку этого файла"
   ]
  },
  {
   "cell_type": "code",
   "execution_count": 157,
   "metadata": {},
   "outputs": [],
   "source": [
    "with open(r'C:\\Users\\WNick\\Python\\netology\\HW-5 data\\visit_log.csv','r', encoding='utf-8') as f:\n",
    "    with open(r'C:\\Users\\WNick\\Python\\netology\\HW-5 data\\funnel.csv','w') as out:\n",
    "        for i, line in enumerate(f):\n",
    "            strip_line = line.strip().split(',')\n",
    "            checkPurchase = purchases.get(strip_line[0])\n",
    "            if checkPurchase: \n",
    "                strip_line.append(checkPurchase)\n",
    "                out.write(','.join(strip_line) + '\\n')"
   ]
  }
 ],
 "metadata": {
  "kernelspec": {
   "display_name": "Python 3",
   "language": "python",
   "name": "python3"
  },
  "language_info": {
   "codemirror_mode": {
    "name": "ipython",
    "version": 3
   },
   "file_extension": ".py",
   "mimetype": "text/x-python",
   "name": "python",
   "nbconvert_exporter": "python",
   "pygments_lexer": "ipython3",
   "version": "3.7.3"
  }
 },
 "nbformat": 4,
 "nbformat_minor": 2
}
