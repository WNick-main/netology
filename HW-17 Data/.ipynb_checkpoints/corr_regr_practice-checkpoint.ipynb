{
 "cells": [
  {
   "cell_type": "code",
   "execution_count": null,
   "metadata": {
    "colab": {
     "base_uri": "https://localhost:8080/"
    },
    "id": "YTwH6a-4s4dJ",
    "outputId": "b62a59e0-8b17-4805-b263-23070f4c1881"
   },
   "outputs": [],
   "source": [
    "from sklearn.datasets import load_boston\n",
    "import pandas as pd\n",
    "import matplotlib.pyplot as plt\n",
    "import seaborn as sns"
   ]
  },
  {
   "cell_type": "code",
   "execution_count": null,
   "metadata": {
    "id": "C50up3Bms_Fr"
   },
   "outputs": [],
   "source": [
    "data = load_boston()"
   ]
  },
  {
   "cell_type": "code",
   "execution_count": null,
   "metadata": {
    "colab": {
     "base_uri": "https://localhost:8080/",
     "height": 248
    },
    "id": "jFAyB7YzLva5",
    "outputId": "468a05c4-dd0a-4277-f231-377b95835dad"
   },
   "outputs": [],
   "source": [
    "data['data']"
   ]
  },
  {
   "cell_type": "code",
   "execution_count": null,
   "metadata": {
    "colab": {
     "base_uri": "https://localhost:8080/",
     "height": 832
    },
    "id": "551FmGLuL1PZ",
    "outputId": "e48f2d65-3f55-4d22-e9fb-381f44d728fa"
   },
   "outputs": [],
   "source": [
    "data['target']"
   ]
  },
  {
   "cell_type": "code",
   "execution_count": null,
   "metadata": {
    "colab": {
     "base_uri": "https://localhost:8080/"
    },
    "id": "5r8JqpimtGvd",
    "outputId": "73e3b7b5-f661-40c7-f08f-639fe0a12a55"
   },
   "outputs": [],
   "source": [
    "df = pd.DataFrame(data['data'], columns=data['feature_names'])\n",
    "df['MEDV'] = data['target']\n",
    "df.head()"
   ]
  },
  {
   "cell_type": "markdown",
   "metadata": {
    "id": "q0uG3K3cti_L"
   },
   "source": [
    "Содержит информацию о жилье в Бостоне, собранную бюро переписи населения США. Она была получена из архива StatLib и широко использовалась в литературе для оценки алгоритмов.\n",
    "\n",
    "- CRIM - уровень преступности на душу населения\n",
    "- ZN - доля земли под жилую застройку,\n",
    "- INDUS - доля акров, не относящихся к розничной торговле.\n",
    "- CHAS - фиктивная переменная реки Чарльз (1, если участок ограничивает реку; 0 в противном случае)\n",
    "- NOX - концентрация оксидов азота \n",
    "- RM - среднее количество комнат в доме\n",
    "- AGE - доля занимаемых владельцами единиц, построенных до 1940 г.\n",
    "- DIS - взвешенное расстояние до пяти бостонских центров занятости\n",
    "- RAD - индекс доступности радиальных автомобильных дорог\n",
    "- TAX - полная ставка налога на имущество за 10 000 долларов США.\n",
    "- PTRATIO - соотношение учеников и учителей по городам\n",
    "- B - 1000 (Bk - 0,63) ^ 2, где Bk - доля афроамериканцев по городам\n",
    "- LSTAT - % более населения низкого соц статуса\n",
    "- MEDV - Средняя стоимость домов в 1000 долларов"
   ]
  },
  {
   "cell_type": "markdown",
   "metadata": {
    "id": "x_4aNGy5wfVM"
   },
   "source": [
    "## Корреляция"
   ]
  },
  {
   "cell_type": "code",
   "execution_count": null,
   "metadata": {
    "colab": {
     "base_uri": "https://localhost:8080/",
     "height": 283
    },
    "id": "L-gaiS50tHpv",
    "outputId": "be431033-3238-4f5f-fb8d-ada57b685d99"
   },
   "outputs": [],
   "source": [
    "df.plot(kind='scatter', x='CRIM', y='MEDV')"
   ]
  },
  {
   "cell_type": "code",
   "execution_count": null,
   "metadata": {
    "colab": {
     "base_uri": "https://localhost:8080/",
     "height": 1000
    },
    "id": "zlHf0GACugC5",
    "outputId": "b8d761dd-a91f-4e53-bfb4-2afde2c32e16"
   },
   "outputs": [],
   "source": [
    "sns.pairplot(df)"
   ]
  },
  {
   "cell_type": "code",
   "execution_count": null,
   "metadata": {
    "colab": {
     "base_uri": "https://localhost:8080/",
     "height": 285
    },
    "id": "hpb23QYBumwF",
    "outputId": "c80de96a-95c6-4968-e700-cbc20642c834"
   },
   "outputs": [],
   "source": [
    "df.plot(kind='scatter', x='LSTAT', y='RM')"
   ]
  },
  {
   "cell_type": "code",
   "execution_count": null,
   "metadata": {
    "colab": {
     "base_uri": "https://localhost:8080/",
     "height": 283
    },
    "id": "1oG9XCeUvFyo",
    "outputId": "f062452d-e166-4855-d79d-d994d9c4b4b9"
   },
   "outputs": [],
   "source": [
    "df.plot(kind='scatter', x='RM', y='MEDV')"
   ]
  },
  {
   "cell_type": "code",
   "execution_count": null,
   "metadata": {
    "colab": {
     "base_uri": "https://localhost:8080/",
     "height": 113
    },
    "id": "PTExiv6cvKaf",
    "outputId": "eedef689-750b-4a1b-acd7-b07963a7ad05"
   },
   "outputs": [],
   "source": [
    "df[['RM', 'MEDV']].corr()"
   ]
  },
  {
   "cell_type": "code",
   "execution_count": null,
   "metadata": {
    "colab": {
     "base_uri": "https://localhost:8080/",
     "height": 113
    },
    "id": "RYUgBTAPwQlI",
    "outputId": "44b78f58-bd9b-46ad-ab93-f5c9ad325f72"
   },
   "outputs": [],
   "source": [
    "df[['RM', 'MEDV']].corr(method='spearman')"
   ]
  },
  {
   "cell_type": "code",
   "execution_count": null,
   "metadata": {
    "colab": {
     "base_uri": "https://localhost:8080/",
     "height": 113
    },
    "id": "RR88ZKNZwU2_",
    "outputId": "7c1f779e-4b98-413d-98a6-fbac675eaf6f"
   },
   "outputs": [],
   "source": [
    "df[['RM', 'MEDV']].corr(method='kendall')"
   ]
  },
  {
   "cell_type": "code",
   "execution_count": null,
   "metadata": {
    "colab": {
     "base_uri": "https://localhost:8080/",
     "height": 512
    },
    "id": "yYlHvjXCvzFB",
    "outputId": "6b1175f1-305d-42e7-83d1-2fc7287ce06b"
   },
   "outputs": [],
   "source": [
    "df.corr()"
   ]
  },
  {
   "cell_type": "code",
   "execution_count": null,
   "metadata": {
    "colab": {
     "base_uri": "https://localhost:8080/",
     "height": 319
    },
    "id": "ir5IpZ1Xv-TF",
    "outputId": "73f9b918-9dd5-43fd-a166-6a8786205883"
   },
   "outputs": [],
   "source": [
    "sns.heatmap(df.corr())"
   ]
  },
  {
   "cell_type": "markdown",
   "metadata": {
    "id": "5ponhnz5wiEe"
   },
   "source": [
    "## Регрессия"
   ]
  },
  {
   "cell_type": "code",
   "execution_count": null,
   "metadata": {
    "id": "V5BtgHVHwAit"
   },
   "outputs": [],
   "source": [
    "from sklearn.linear_model import LinearRegression\n",
    "from sklearn.model_selection import train_test_split"
   ]
  },
  {
   "cell_type": "code",
   "execution_count": null,
   "metadata": {
    "id": "_M4mqTiPxcWE"
   },
   "outputs": [],
   "source": [
    "X = df[['RM']]\n",
    "y = df['MEDV']"
   ]
  },
  {
   "cell_type": "code",
   "execution_count": null,
   "metadata": {},
   "outputs": [],
   "source": [
    "X_train, X_test, y_train, y_test = train_test_split(X, y, test_size=0.30, random_state=42)"
   ]
  },
  {
   "cell_type": "code",
   "execution_count": null,
   "metadata": {
    "colab": {
     "base_uri": "https://localhost:8080/",
     "height": 35
    },
    "id": "hF2RTr4aRmf7",
    "outputId": "c7a241b9-b911-4e82-8174-131fa25f88d5"
   },
   "outputs": [],
   "source": [
    "X_train.shape"
   ]
  },
  {
   "cell_type": "code",
   "execution_count": null,
   "metadata": {
    "colab": {
     "base_uri": "https://localhost:8080/",
     "height": 35
    },
    "id": "uHtibYVJRrjZ",
    "outputId": "07949672-955a-4175-b0f2-4e1c7cb97146"
   },
   "outputs": [],
   "source": [
    "y_train.shape"
   ]
  },
  {
   "cell_type": "code",
   "execution_count": null,
   "metadata": {
    "colab": {
     "base_uri": "https://localhost:8080/",
     "height": 35
    },
    "id": "qAioVnT2xMR3",
    "outputId": "5160edea-4f5f-4e79-feb8-b6feaf87c273"
   },
   "outputs": [],
   "source": [
    "model = LinearRegression()\n",
    "model.fit(X_train, y_train)  # метод обучается на данных и подбирает оптимальные коэффициенты"
   ]
  },
  {
   "cell_type": "code",
   "execution_count": null,
   "metadata": {
    "colab": {
     "base_uri": "https://localhost:8080/",
     "height": 35
    },
    "id": "BbgJpYgzRy66",
    "outputId": "2a717a21-10e2-4514-e658-b918c882232b"
   },
   "outputs": [],
   "source": [
    "model.coef_"
   ]
  },
  {
   "cell_type": "code",
   "execution_count": null,
   "metadata": {
    "colab": {
     "base_uri": "https://localhost:8080/",
     "height": 35
    },
    "id": "dnb8_ADdR3By",
    "outputId": "0a300dcd-bf0d-4f19-d6ac-2cc4d58a36d4"
   },
   "outputs": [],
   "source": [
    "model.intercept_"
   ]
  },
  {
   "cell_type": "code",
   "execution_count": null,
   "metadata": {},
   "outputs": [],
   "source": [
    "y_pred = model.predict(X_test)\n",
    "y_pred"
   ]
  },
  {
   "cell_type": "code",
   "execution_count": null,
   "metadata": {},
   "outputs": [],
   "source": [
    "model.score(X_test, y_test) # метод возвращает значение коэффициента детерминации"
   ]
  },
  {
   "cell_type": "code",
   "execution_count": null,
   "metadata": {},
   "outputs": [],
   "source": [
    "plt.scatter(X_test, y_test)\n",
    "plt.plot(X_test, y_pred, c='r')"
   ]
  },
  {
   "cell_type": "code",
   "execution_count": null,
   "metadata": {
    "id": "uISz7-2_xrlt"
   },
   "outputs": [],
   "source": [
    "# Альтернативный способ из statsmodel"
   ]
  },
  {
   "cell_type": "code",
   "execution_count": null,
   "metadata": {
    "id": "gRPgPFkHxlxY"
   },
   "outputs": [],
   "source": [
    "import statsmodels.api as sm\n",
    "from statsmodels.sandbox.regression.predstd import wls_prediction_std"
   ]
  },
  {
   "cell_type": "code",
   "execution_count": null,
   "metadata": {},
   "outputs": [],
   "source": [
    "X_train, X_test, y_train, y_test = train_test_split(X, y, test_size=0.30, random_state=42)"
   ]
  },
  {
   "cell_type": "code",
   "execution_count": null,
   "metadata": {
    "id": "bGOrfAD8xxoj"
   },
   "outputs": [],
   "source": [
    "X_const = sm.add_constant(X_train) # техническая особенность библиотек, надо руками добавить константу"
   ]
  },
  {
   "cell_type": "code",
   "execution_count": null,
   "metadata": {
    "colab": {
     "base_uri": "https://localhost:8080/",
     "height": 35
    },
    "id": "G5lR_waGS4Qq",
    "outputId": "d88ca898-ad8e-4012-e612-b71450cabc7c"
   },
   "outputs": [],
   "source": [
    "X_const.shape"
   ]
  },
  {
   "cell_type": "code",
   "execution_count": null,
   "metadata": {
    "colab": {
     "base_uri": "https://localhost:8080/",
     "height": 106
    },
    "id": "nmhgD5TYS5or",
    "outputId": "db94e617-a145-4ec4-e12c-0e56e83425f7"
   },
   "outputs": [],
   "source": [
    "X[:5]"
   ]
  },
  {
   "cell_type": "code",
   "execution_count": null,
   "metadata": {
    "colab": {
     "base_uri": "https://localhost:8080/",
     "height": 457
    },
    "id": "IfsbRzuJx0Q3",
    "outputId": "e57c139d-7589-4df7-8571-20db9c2a2c0c"
   },
   "outputs": [],
   "source": [
    "model = sm.OLS(y_train, X_const)\n",
    "results = model.fit()\n",
    "print(results.summary())"
   ]
  },
  {
   "cell_type": "code",
   "execution_count": null,
   "metadata": {
    "colab": {
     "base_uri": "https://localhost:8080/",
     "height": 52
    },
    "id": "MkbvV5W5x3sT",
    "outputId": "d7b541ba-3b74-4eb1-bcad-486098ce760f"
   },
   "outputs": [],
   "source": [
    "print('Parameters: ', results.params)\n",
    "print('R2: ', results.rsquared)"
   ]
  },
  {
   "cell_type": "code",
   "execution_count": null,
   "metadata": {
    "colab": {
     "base_uri": "https://localhost:8080/",
     "height": 374
    },
    "id": "Dk-MEcS0x7KD",
    "outputId": "68074b14-8303-4363-e830-79df331748b1"
   },
   "outputs": [],
   "source": [
    "prstd, iv_l, iv_u = wls_prediction_std(results) \n",
    "# для каждой точки получаем не просто сам прогноз, но и доверительный интервал\n",
    "# с увеличением количества факторов, этот интервал будет уменьшаться\n",
    "fig, ax = plt.subplots(figsize=(8,6))\n",
    "\n",
    "ax.plot(X_const.iloc[:, 1], y_train, 'o', label=\"data\")\n",
    "ax.plot(X_const.iloc[:, 1], results.fittedvalues, 'r--.', label=\"OLS\")\n",
    "ax.plot(X_const.iloc[:, 1], iv_u, 'g--')\n",
    "ax.plot(X_const.iloc[:, 1], iv_l, 'g--')\n",
    "ax.legend(loc='best');"
   ]
  },
  {
   "cell_type": "code",
   "execution_count": null,
   "metadata": {
    "colab": {
     "base_uri": "https://localhost:8080/",
     "height": 283
    },
    "id": "of0t2NF2yDwO",
    "outputId": "52afb326-9a0f-457c-b55e-623c6d3d51b0"
   },
   "outputs": [],
   "source": [
    "# посмотрим на остатки\n",
    "plt.scatter(X_const.iloc[:, 1], results.resid)"
   ]
  },
  {
   "cell_type": "code",
   "execution_count": null,
   "metadata": {
    "colab": {
     "base_uri": "https://localhost:8080/",
     "height": 355
    },
    "id": "u39jhKy9yglo",
    "outputId": "271a48b0-51f2-423d-9531-6a2c27eed833"
   },
   "outputs": [],
   "source": [
    "plt.hist(results.resid)"
   ]
  },
  {
   "cell_type": "markdown",
   "metadata": {
    "id": "y1atPa05HY-h"
   },
   "source": [
    "Пример [многофакторной модели](https://medium.com/@amitg0161/sklearn-linear-regression-tutorial-with-boston-house-dataset-cde74afd460a)"
   ]
  }
 ],
 "metadata": {
  "colab": {
   "name": "Корреляция и регрессия.ipynb",
   "provenance": []
  },
  "kernelspec": {
   "display_name": "Python 3",
   "language": "python",
   "name": "python3"
  },
  "language_info": {
   "codemirror_mode": {
    "name": "ipython",
    "version": 3
   },
   "file_extension": ".py",
   "mimetype": "text/x-python",
   "name": "python",
   "nbconvert_exporter": "python",
   "pygments_lexer": "ipython3",
   "version": "3.8.8"
  }
 },
 "nbformat": 4,
 "nbformat_minor": 1
}
