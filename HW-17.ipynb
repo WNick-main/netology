{
 "cells": [
  {
   "cell_type": "markdown",
   "id": "6ad10cb3",
   "metadata": {},
   "source": [
    "### Задание 1.\n",
    "Ответить на вопрос: есть ли связь между жёсткостью воды и средней годовой смертностью?"
   ]
  },
  {
   "cell_type": "code",
   "execution_count": 38,
   "id": "4352bf0e",
   "metadata": {},
   "outputs": [],
   "source": [
    "import pandas as pd\n",
    "import numpy as np\n",
    "import matplotlib.pyplot as plt\n",
    "from sklearn.linear_model import LinearRegression\n",
    "from sklearn.model_selection import train_test_split\n",
    "import seaborn as sns"
   ]
  },
  {
   "cell_type": "code",
   "execution_count": 21,
   "id": "ba777d7c",
   "metadata": {},
   "outputs": [],
   "source": [
    "df = pd.read_csv('HW-17 Data\\\\Water.csv', header = 0)"
   ]
  },
  {
   "cell_type": "code",
   "execution_count": 25,
   "id": "3adc661c",
   "metadata": {},
   "outputs": [
    {
     "data": {
      "text/html": [
       "<div>\n",
       "<style scoped>\n",
       "    .dataframe tbody tr th:only-of-type {\n",
       "        vertical-align: middle;\n",
       "    }\n",
       "\n",
       "    .dataframe tbody tr th {\n",
       "        vertical-align: top;\n",
       "    }\n",
       "\n",
       "    .dataframe thead th {\n",
       "        text-align: right;\n",
       "    }\n",
       "</style>\n",
       "<table border=\"1\" class=\"dataframe\">\n",
       "  <thead>\n",
       "    <tr style=\"text-align: right;\">\n",
       "      <th></th>\n",
       "      <th>Unnamed: 0</th>\n",
       "      <th>location</th>\n",
       "      <th>town</th>\n",
       "      <th>mortality</th>\n",
       "      <th>hardness</th>\n",
       "    </tr>\n",
       "  </thead>\n",
       "  <tbody>\n",
       "    <tr>\n",
       "      <th>0</th>\n",
       "      <td>1</td>\n",
       "      <td>South</td>\n",
       "      <td>Bath</td>\n",
       "      <td>1247</td>\n",
       "      <td>105</td>\n",
       "    </tr>\n",
       "    <tr>\n",
       "      <th>1</th>\n",
       "      <td>2</td>\n",
       "      <td>North</td>\n",
       "      <td>Birkenhead</td>\n",
       "      <td>1668</td>\n",
       "      <td>17</td>\n",
       "    </tr>\n",
       "    <tr>\n",
       "      <th>2</th>\n",
       "      <td>3</td>\n",
       "      <td>South</td>\n",
       "      <td>Birmingham</td>\n",
       "      <td>1466</td>\n",
       "      <td>5</td>\n",
       "    </tr>\n",
       "    <tr>\n",
       "      <th>3</th>\n",
       "      <td>4</td>\n",
       "      <td>North</td>\n",
       "      <td>Blackburn</td>\n",
       "      <td>1800</td>\n",
       "      <td>14</td>\n",
       "    </tr>\n",
       "    <tr>\n",
       "      <th>4</th>\n",
       "      <td>5</td>\n",
       "      <td>North</td>\n",
       "      <td>Blackpool</td>\n",
       "      <td>1609</td>\n",
       "      <td>18</td>\n",
       "    </tr>\n",
       "  </tbody>\n",
       "</table>\n",
       "</div>"
      ],
      "text/plain": [
       "   Unnamed: 0 location        town  mortality  hardness\n",
       "0           1    South        Bath       1247       105\n",
       "1           2    North  Birkenhead       1668        17\n",
       "2           3    South  Birmingham       1466         5\n",
       "3           4    North   Blackburn       1800        14\n",
       "4           5    North   Blackpool       1609        18"
      ]
     },
     "execution_count": 25,
     "metadata": {},
     "output_type": "execute_result"
    }
   ],
   "source": [
    "df.head()"
   ]
  },
  {
   "cell_type": "code",
   "execution_count": 23,
   "id": "5f88a57b",
   "metadata": {},
   "outputs": [
    {
     "data": {
      "text/plain": [
       "<AxesSubplot:xlabel='mortality', ylabel='hardness'>"
      ]
     },
     "execution_count": 23,
     "metadata": {},
     "output_type": "execute_result"
    },
    {
     "data": {
      "image/png": "[encoded data removed]",
      "text/plain": [
       "<Figure size 432x288 with 1 Axes>"
      ]
     },
     "metadata": {
      "needs_background": "light"
     },
     "output_type": "display_data"
    }
   ],
   "source": [
    "#Построить точечный график\n",
    "df.plot(kind='scatter', x='mortality', y='hardness')"
   ]
  },
  {
   "cell_type": "code",
   "execution_count": 33,
   "id": "a8c3c9f4",
   "metadata": {},
   "outputs": [
    {
     "name": "stdout",
     "output_type": "stream",
     "text": [
      "По Пирсону:\n",
      "           mortality  hardness\n",
      "mortality   1.000000 -0.654849\n",
      "hardness   -0.654849  1.000000\n",
      "По Спирмену:\n",
      "           mortality  hardness\n",
      "mortality   1.000000 -0.631665\n",
      "hardness   -0.631665  1.000000\n"
     ]
    }
   ],
   "source": [
    "#Рассчитать коэффициенты корреляции Пирсона и Спирмена\n",
    "p_cor = df[['mortality', 'hardness']].corr()\n",
    "s_cor = df[['mortality', 'hardness']].corr(method='spearman')\n",
    "print('По Пирсону:')\n",
    "print(p_cor)\n",
    "print('По Спирмену:')\n",
    "print(s_cor)"
   ]
  },
  {
   "cell_type": "code",
   "execution_count": 45,
   "id": "e07ea536",
   "metadata": {},
   "outputs": [
    {
     "data": {
      "text/plain": [
       "array([1340.14685615, 1637.65558901, 1625.12890552, 1531.17877935,\n",
       "       1424.7019697 , 1606.33888028, 1252.46007173, 1434.09698232,\n",
       "       1603.20720941, 1650.18227249, 1484.20371627, 1415.30695708,\n",
       "       1546.83713371, 1625.12890552, 1446.62366581, 1546.83713371,\n",
       "       1637.65558901, 1621.99723465, 1352.67353964])"
      ]
     },
     "execution_count": 45,
     "metadata": {},
     "output_type": "execute_result"
    }
   ],
   "source": [
    "#Построить модель линейной регрессии\n",
    "X = df[['hardness']]\n",
    "y = df['mortality']\n",
    "X_train, X_test, y_train, y_test = train_test_split(X, y, test_size=0.30, random_state=42)\n",
    "X_train.shape\n",
    "y_train.shape\n",
    "model = LinearRegression()\n",
    "model.fit(X_train, y_train)\n",
    "y_pred = model.predict(X_test)\n",
    "y_pred"
   ]
  },
  {
   "cell_type": "code",
   "execution_count": 47,
   "id": "d5baf534",
   "metadata": {},
   "outputs": [
    {
     "data": {
      "text/html": [
       "<div>\n",
       "<style scoped>\n",
       "    .dataframe tbody tr th:only-of-type {\n",
       "        vertical-align: middle;\n",
       "    }\n",
       "\n",
       "    .dataframe tbody tr th {\n",
       "        vertical-align: top;\n",
       "    }\n",
       "\n",
       "    .dataframe thead th {\n",
       "        text-align: right;\n",
       "    }\n",
       "</style>\n",
       "<table border=\"1\" class=\"dataframe\">\n",
       "  <thead>\n",
       "    <tr style=\"text-align: right;\">\n",
       "      <th></th>\n",
       "      <th>hardness</th>\n",
       "      <th>y_pred</th>\n",
       "      <th>y_test</th>\n",
       "    </tr>\n",
       "  </thead>\n",
       "  <tbody>\n",
       "    <tr>\n",
       "      <th>0</th>\n",
       "      <td>105</td>\n",
       "      <td>1340.146856</td>\n",
       "      <td>1247</td>\n",
       "    </tr>\n",
       "    <tr>\n",
       "      <th>5</th>\n",
       "      <td>10</td>\n",
       "      <td>1637.655589</td>\n",
       "      <td>1558</td>\n",
       "    </tr>\n",
       "    <tr>\n",
       "      <th>46</th>\n",
       "      <td>14</td>\n",
       "      <td>1625.128906</td>\n",
       "      <td>1495</td>\n",
       "    </tr>\n",
       "    <tr>\n",
       "      <th>31</th>\n",
       "      <td>44</td>\n",
       "      <td>1531.178779</td>\n",
       "      <td>1702</td>\n",
       "    </tr>\n",
       "    <tr>\n",
       "      <th>13</th>\n",
       "      <td>78</td>\n",
       "      <td>1424.701970</td>\n",
       "      <td>1307</td>\n",
       "    </tr>\n",
       "  </tbody>\n",
       "</table>\n",
       "</div>"
      ],
      "text/plain": [
       "    hardness       y_pred  y_test\n",
       "0        105  1340.146856    1247\n",
       "5         10  1637.655589    1558\n",
       "46        14  1625.128906    1495\n",
       "31        44  1531.178779    1702\n",
       "13        78  1424.701970    1307"
      ]
     },
     "execution_count": 47,
     "metadata": {},
     "output_type": "execute_result"
    }
   ],
   "source": [
    "#Смотрим расхождение\n",
    "res_df = X_test.copy()\n",
    "res_df['y_pred'] = y_pred\n",
    "res_df['y_test'] = y_test\n",
    "res_df.head()"
   ]
  },
  {
   "cell_type": "code",
   "execution_count": 48,
   "id": "8fcbc22c",
   "metadata": {},
   "outputs": [
    {
     "data": {
      "text/plain": [
       "0.5046490611017092"
      ]
     },
     "execution_count": 48,
     "metadata": {},
     "output_type": "execute_result"
    }
   ],
   "source": [
    "# Рассчитать коэффициент детерминации\n",
    "model.score(X_test, y_test)"
   ]
  },
  {
   "cell_type": "code",
   "execution_count": 50,
   "id": "773aa255",
   "metadata": {
    "scrolled": true
   },
   "outputs": [
    {
     "data": {
      "text/plain": [
       "[<matplotlib.lines.Line2D at 0x1b7143f1f70>]"
      ]
     },
     "execution_count": 50,
     "metadata": {},
     "output_type": "execute_result"
    },
    {
     "data": {
      "image/png": "[encoded data removed]",
      "text/plain": [
       "<Figure size 432x288 with 1 Axes>"
      ]
     },
     "metadata": {
      "needs_background": "light"
     },
     "output_type": "display_data"
    }
   ],
   "source": [
    "#Вывести график остатков\n",
    "plt.scatter(X_test, y_test)\n",
    "plt.plot(X_test, y_pred, c='r')"
   ]
  },
  {
   "cell_type": "markdown",
   "id": "2ac068d9",
   "metadata": {},
   "source": [
    "Для полного датасета наблюдается обратная зависимость смертности от жесткости воды."
   ]
  },
  {
   "cell_type": "markdown",
   "id": "b20e59d6",
   "metadata": {},
   "source": [
    "### Задание 2.\n",
    "Ответить на вопрос: сохраняется ли аналогичная зависимость для северных и южных городов по отдельности?"
   ]
  },
  {
   "cell_type": "code",
   "execution_count": 68,
   "id": "99f16d82",
   "metadata": {
    "scrolled": true
   },
   "outputs": [
    {
     "name": "stdout",
     "output_type": "stream",
     "text": [
      "По Пирсону:\n",
      "           mortality  hardness\n",
      "mortality   1.000000 -0.602153\n",
      "hardness   -0.602153  1.000000\n",
      "По Спирмену:\n",
      "           mortality  hardness\n",
      "mortality   1.000000 -0.595723\n",
      "hardness   -0.595723  1.000000\n",
      "Коэффициент детерминации: -2.551922301235205\n"
     ]
    },
    {
     "data": {
      "image/png": "[encoded data removed]",
      "text/plain": [
       "<Figure size 432x288 with 1 Axes>"
      ]
     },
     "metadata": {
      "needs_background": "light"
     },
     "output_type": "display_data"
    }
   ],
   "source": [
    "def calc(df):\n",
    "    df.plot(kind='scatter', x='mortality', y='hardness')\n",
    "    #Рассчитать коэффициенты корреляции Пирсона и Спирмена\n",
    "    p_cor = df[['mortality', 'hardness']].corr()\n",
    "    s_cor = df[['mortality', 'hardness']].corr(method='spearman')\n",
    "    print('По Пирсону:')\n",
    "    print(p_cor)\n",
    "    print('По Спирмену:')\n",
    "    print(s_cor)\n",
    "    #Построить модель линейной регрессии\n",
    "    X = df[['hardness']]\n",
    "    y = df['mortality']\n",
    "    X_train, X_test, y_train, y_test = train_test_split(X, y, test_size=0.30, random_state=42)\n",
    "    X_train.shape\n",
    "    y_train.shape\n",
    "    model = LinearRegression()\n",
    "    model.fit(X_train, y_train)\n",
    "    coef_d = model.score(X_test, y_test)\n",
    "    print(f'Коэффициент детерминации: {coef_d}')\n",
    "\n",
    "\n",
    "calc(df.loc[df['location']=='South'])\n"
   ]
  },
  {
   "cell_type": "code",
   "execution_count": 65,
   "id": "e58348d4",
   "metadata": {},
   "outputs": [
    {
     "name": "stdout",
     "output_type": "stream",
     "text": [
      "По Пирсону:\n",
      "           mortality  hardness\n",
      "mortality   1.000000 -0.368598\n",
      "hardness   -0.368598  1.000000\n",
      "По Спирмену:\n",
      "           mortality  hardness\n",
      "mortality   1.000000 -0.404208\n",
      "hardness   -0.404208  1.000000\n",
      "Коэффициент детерминации: 0.018885304285745863\n"
     ]
    },
    {
     "data": {
      "image/png": "[encoded data removed]",
      "text/plain": [
       "<Figure size 432x288 with 1 Axes>"
      ]
     },
     "metadata": {
      "needs_background": "light"
     },
     "output_type": "display_data"
    }
   ],
   "source": [
    "calc(df.loc[df['location']=='North'])"
   ]
  },
  {
   "cell_type": "markdown",
   "id": "081cac33",
   "metadata": {},
   "source": [
    "При разбивке датасета на 2 для северных и южных городов аналогичная зависимость не наблюдается."
   ]
  }
 ],
 "metadata": {
  "kernelspec": {
   "display_name": "Python 3",
   "language": "python",
   "name": "python3"
  },
  "language_info": {
   "codemirror_mode": {
    "name": "ipython",
    "version": 3
   },
   "file_extension": ".py",
   "mimetype": "text/x-python",
   "name": "python",
   "nbconvert_exporter": "python",
   "pygments_lexer": "ipython3",
   "version": "3.8.8"
  }
 },
 "nbformat": 4,
 "nbformat_minor": 5
}
