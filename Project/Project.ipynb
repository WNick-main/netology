{
 "cells": [
  {
   "cell_type": "code",
   "execution_count": 1,
   "id": "ba5f8e48",
   "metadata": {},
   "outputs": [],
   "source": [
    "import pandas as pd\n",
    "import numpy as np\n",
    "import matplotlib.pyplot as plt"
   ]
  },
  {
   "cell_type": "markdown",
   "id": "e4a46528",
   "metadata": {},
   "source": [
    "### 1. Загрузите файл HR.csv в pandas dataframe"
   ]
  },
  {
   "cell_type": "markdown",
   "id": "2b66403e",
   "metadata": {},
   "source": [
    "* satisfaction_level - Уровень удовлетворенности работой\n",
    "* Last_evaluation - Время с момента последней оценки в годах\n",
    "* number_projects - Количество проектов, выполненных за время работы\n",
    "* average_monthly_hours - Среднее количество часов на рабочем месте в месяц\n",
    "* time_spend_company - Стаж работы в компании в годах\n",
    "* work_accident - Происходили ли несчастные случаи на рабочем месте с сотрудником\n",
    "* left - уволился ли сотрудник\n",
    "* promotion_last_5years - повышался ли сотрудник за последние пять лет\n",
    "* department - отдел в котором работает сотрудник\n",
    "* salary - относительный уровень зарплаты"
   ]
  },
  {
   "cell_type": "code",
   "execution_count": 2,
   "id": "73e20a23",
   "metadata": {},
   "outputs": [
    {
     "data": {
      "text/html": [
       "<div>\n",
       "<style scoped>\n",
       "    .dataframe tbody tr th:only-of-type {\n",
       "        vertical-align: middle;\n",
       "    }\n",
       "\n",
       "    .dataframe tbody tr th {\n",
       "        vertical-align: top;\n",
       "    }\n",
       "\n",
       "    .dataframe thead th {\n",
       "        text-align: right;\n",
       "    }\n",
       "</style>\n",
       "<table border=\"1\" class=\"dataframe\">\n",
       "  <thead>\n",
       "    <tr style=\"text-align: right;\">\n",
       "      <th></th>\n",
       "      <th>satisfaction_level</th>\n",
       "      <th>last_evaluation</th>\n",
       "      <th>number_project</th>\n",
       "      <th>average_montly_hours</th>\n",
       "      <th>time_spend_company</th>\n",
       "      <th>Work_accident</th>\n",
       "      <th>left</th>\n",
       "      <th>promotion_last_5years</th>\n",
       "      <th>department</th>\n",
       "      <th>salary</th>\n",
       "    </tr>\n",
       "  </thead>\n",
       "  <tbody>\n",
       "    <tr>\n",
       "      <th>0</th>\n",
       "      <td>0.38</td>\n",
       "      <td>0.53</td>\n",
       "      <td>2</td>\n",
       "      <td>157</td>\n",
       "      <td>3</td>\n",
       "      <td>0</td>\n",
       "      <td>1</td>\n",
       "      <td>0</td>\n",
       "      <td>sales</td>\n",
       "      <td>low</td>\n",
       "    </tr>\n",
       "    <tr>\n",
       "      <th>1</th>\n",
       "      <td>0.80</td>\n",
       "      <td>0.86</td>\n",
       "      <td>5</td>\n",
       "      <td>262</td>\n",
       "      <td>6</td>\n",
       "      <td>0</td>\n",
       "      <td>1</td>\n",
       "      <td>0</td>\n",
       "      <td>sales</td>\n",
       "      <td>medium</td>\n",
       "    </tr>\n",
       "    <tr>\n",
       "      <th>2</th>\n",
       "      <td>0.11</td>\n",
       "      <td>0.88</td>\n",
       "      <td>7</td>\n",
       "      <td>272</td>\n",
       "      <td>4</td>\n",
       "      <td>0</td>\n",
       "      <td>1</td>\n",
       "      <td>0</td>\n",
       "      <td>sales</td>\n",
       "      <td>medium</td>\n",
       "    </tr>\n",
       "    <tr>\n",
       "      <th>3</th>\n",
       "      <td>0.72</td>\n",
       "      <td>0.87</td>\n",
       "      <td>5</td>\n",
       "      <td>223</td>\n",
       "      <td>5</td>\n",
       "      <td>0</td>\n",
       "      <td>1</td>\n",
       "      <td>0</td>\n",
       "      <td>sales</td>\n",
       "      <td>low</td>\n",
       "    </tr>\n",
       "    <tr>\n",
       "      <th>4</th>\n",
       "      <td>0.37</td>\n",
       "      <td>0.52</td>\n",
       "      <td>2</td>\n",
       "      <td>159</td>\n",
       "      <td>3</td>\n",
       "      <td>0</td>\n",
       "      <td>1</td>\n",
       "      <td>0</td>\n",
       "      <td>sales</td>\n",
       "      <td>low</td>\n",
       "    </tr>\n",
       "  </tbody>\n",
       "</table>\n",
       "</div>"
      ],
      "text/plain": [
       "   satisfaction_level  last_evaluation  number_project  average_montly_hours  \\\n",
       "0                0.38             0.53               2                   157   \n",
       "1                0.80             0.86               5                   262   \n",
       "2                0.11             0.88               7                   272   \n",
       "3                0.72             0.87               5                   223   \n",
       "4                0.37             0.52               2                   159   \n",
       "\n",
       "   time_spend_company  Work_accident  left  promotion_last_5years department  \\\n",
       "0                   3              0     1                      0      sales   \n",
       "1                   6              0     1                      0      sales   \n",
       "2                   4              0     1                      0      sales   \n",
       "3                   5              0     1                      0      sales   \n",
       "4                   3              0     1                      0      sales   \n",
       "\n",
       "   salary  \n",
       "0     low  \n",
       "1  medium  \n",
       "2  medium  \n",
       "3     low  \n",
       "4     low  "
      ]
     },
     "execution_count": 2,
     "metadata": {},
     "output_type": "execute_result"
    }
   ],
   "source": [
    "df = pd.read_csv('HR.csv')\n",
    "df.head() "
   ]
  },
  {
   "cell_type": "code",
   "execution_count": 3,
   "id": "f0fbafa9",
   "metadata": {},
   "outputs": [
    {
     "name": "stdout",
     "output_type": "stream",
     "text": [
      "<class 'pandas.core.frame.DataFrame'>\n",
      "RangeIndex: 14999 entries, 0 to 14998\n",
      "Data columns (total 10 columns):\n",
      " #   Column                 Non-Null Count  Dtype  \n",
      "---  ------                 --------------  -----  \n",
      " 0   satisfaction_level     14999 non-null  float64\n",
      " 1   last_evaluation        14999 non-null  float64\n",
      " 2   number_project         14999 non-null  int64  \n",
      " 3   average_montly_hours   14999 non-null  int64  \n",
      " 4   time_spend_company     14999 non-null  int64  \n",
      " 5   Work_accident          14999 non-null  int64  \n",
      " 6   left                   14999 non-null  int64  \n",
      " 7   promotion_last_5years  14999 non-null  int64  \n",
      " 8   department             14999 non-null  object \n",
      " 9   salary                 14999 non-null  object \n",
      "dtypes: float64(2), int64(6), object(2)\n",
      "memory usage: 1.1+ MB\n"
     ]
    }
   ],
   "source": [
    "df.info()"
   ]
  },
  {
   "cell_type": "markdown",
   "id": "f7109d04",
   "metadata": {},
   "source": [
    "### 2. Рассчитайте основные статистики для переменных(среднее,медиана,мода,мин/макс,сред.отклонение)"
   ]
  },
  {
   "cell_type": "code",
   "execution_count": 4,
   "id": "50b9cd1f",
   "metadata": {},
   "outputs": [
    {
     "data": {
      "text/html": [
       "<div>\n",
       "<style scoped>\n",
       "    .dataframe tbody tr th:only-of-type {\n",
       "        vertical-align: middle;\n",
       "    }\n",
       "\n",
       "    .dataframe tbody tr th {\n",
       "        vertical-align: top;\n",
       "    }\n",
       "\n",
       "    .dataframe thead th {\n",
       "        text-align: right;\n",
       "    }\n",
       "</style>\n",
       "<table border=\"1\" class=\"dataframe\">\n",
       "  <thead>\n",
       "    <tr style=\"text-align: right;\">\n",
       "      <th></th>\n",
       "      <th>satisfaction_level</th>\n",
       "      <th>last_evaluation</th>\n",
       "      <th>number_project</th>\n",
       "      <th>average_montly_hours</th>\n",
       "      <th>time_spend_company</th>\n",
       "      <th>Work_accident</th>\n",
       "      <th>left</th>\n",
       "      <th>promotion_last_5years</th>\n",
       "    </tr>\n",
       "  </thead>\n",
       "  <tbody>\n",
       "    <tr>\n",
       "      <th>count</th>\n",
       "      <td>14999.000000</td>\n",
       "      <td>14999.000000</td>\n",
       "      <td>14999.000000</td>\n",
       "      <td>14999.000000</td>\n",
       "      <td>14999.000000</td>\n",
       "      <td>14999.000000</td>\n",
       "      <td>14999.000000</td>\n",
       "      <td>14999.000000</td>\n",
       "    </tr>\n",
       "    <tr>\n",
       "      <th>mean</th>\n",
       "      <td>0.612834</td>\n",
       "      <td>0.716102</td>\n",
       "      <td>3.803054</td>\n",
       "      <td>201.050337</td>\n",
       "      <td>3.498233</td>\n",
       "      <td>0.144610</td>\n",
       "      <td>0.238083</td>\n",
       "      <td>0.021268</td>\n",
       "    </tr>\n",
       "    <tr>\n",
       "      <th>std</th>\n",
       "      <td>0.248631</td>\n",
       "      <td>0.171169</td>\n",
       "      <td>1.232592</td>\n",
       "      <td>49.943099</td>\n",
       "      <td>1.460136</td>\n",
       "      <td>0.351719</td>\n",
       "      <td>0.425924</td>\n",
       "      <td>0.144281</td>\n",
       "    </tr>\n",
       "    <tr>\n",
       "      <th>min</th>\n",
       "      <td>0.090000</td>\n",
       "      <td>0.360000</td>\n",
       "      <td>2.000000</td>\n",
       "      <td>96.000000</td>\n",
       "      <td>2.000000</td>\n",
       "      <td>0.000000</td>\n",
       "      <td>0.000000</td>\n",
       "      <td>0.000000</td>\n",
       "    </tr>\n",
       "    <tr>\n",
       "      <th>25%</th>\n",
       "      <td>0.440000</td>\n",
       "      <td>0.560000</td>\n",
       "      <td>3.000000</td>\n",
       "      <td>156.000000</td>\n",
       "      <td>3.000000</td>\n",
       "      <td>0.000000</td>\n",
       "      <td>0.000000</td>\n",
       "      <td>0.000000</td>\n",
       "    </tr>\n",
       "    <tr>\n",
       "      <th>50%</th>\n",
       "      <td>0.640000</td>\n",
       "      <td>0.720000</td>\n",
       "      <td>4.000000</td>\n",
       "      <td>200.000000</td>\n",
       "      <td>3.000000</td>\n",
       "      <td>0.000000</td>\n",
       "      <td>0.000000</td>\n",
       "      <td>0.000000</td>\n",
       "    </tr>\n",
       "    <tr>\n",
       "      <th>75%</th>\n",
       "      <td>0.820000</td>\n",
       "      <td>0.870000</td>\n",
       "      <td>5.000000</td>\n",
       "      <td>245.000000</td>\n",
       "      <td>4.000000</td>\n",
       "      <td>0.000000</td>\n",
       "      <td>0.000000</td>\n",
       "      <td>0.000000</td>\n",
       "    </tr>\n",
       "    <tr>\n",
       "      <th>max</th>\n",
       "      <td>1.000000</td>\n",
       "      <td>1.000000</td>\n",
       "      <td>7.000000</td>\n",
       "      <td>310.000000</td>\n",
       "      <td>10.000000</td>\n",
       "      <td>1.000000</td>\n",
       "      <td>1.000000</td>\n",
       "      <td>1.000000</td>\n",
       "    </tr>\n",
       "  </tbody>\n",
       "</table>\n",
       "</div>"
      ],
      "text/plain": [
       "       satisfaction_level  last_evaluation  number_project  \\\n",
       "count        14999.000000     14999.000000    14999.000000   \n",
       "mean             0.612834         0.716102        3.803054   \n",
       "std              0.248631         0.171169        1.232592   \n",
       "min              0.090000         0.360000        2.000000   \n",
       "25%              0.440000         0.560000        3.000000   \n",
       "50%              0.640000         0.720000        4.000000   \n",
       "75%              0.820000         0.870000        5.000000   \n",
       "max              1.000000         1.000000        7.000000   \n",
       "\n",
       "       average_montly_hours  time_spend_company  Work_accident          left  \\\n",
       "count          14999.000000        14999.000000   14999.000000  14999.000000   \n",
       "mean             201.050337            3.498233       0.144610      0.238083   \n",
       "std               49.943099            1.460136       0.351719      0.425924   \n",
       "min               96.000000            2.000000       0.000000      0.000000   \n",
       "25%              156.000000            3.000000       0.000000      0.000000   \n",
       "50%              200.000000            3.000000       0.000000      0.000000   \n",
       "75%              245.000000            4.000000       0.000000      0.000000   \n",
       "max              310.000000           10.000000       1.000000      1.000000   \n",
       "\n",
       "       promotion_last_5years  \n",
       "count           14999.000000  \n",
       "mean                0.021268  \n",
       "std                 0.144281  \n",
       "min                 0.000000  \n",
       "25%                 0.000000  \n",
       "50%                 0.000000  \n",
       "75%                 0.000000  \n",
       "max                 1.000000  "
      ]
     },
     "execution_count": 4,
     "metadata": {},
     "output_type": "execute_result"
    }
   ],
   "source": [
    "df.describe()"
   ]
  },
  {
   "cell_type": "markdown",
   "id": "e4647c67",
   "metadata": {},
   "source": [
    "### 3. Рассчитайте и визуализировать корреляционную матрицу для количественных переменных.\n",
    "### Определите две самые скоррелированные и две наименее скоррелированные переменные."
   ]
  },
  {
   "cell_type": "code",
   "execution_count": 5,
   "id": "e50b1a1b",
   "metadata": {},
   "outputs": [
    {
     "data": {
      "text/plain": [
       "Text(0.5, 1.0, 'Корреляция')"
      ]
     },
     "execution_count": 5,
     "metadata": {},
     "output_type": "execute_result"
    },
    {
     "data": {
      "image/png": "[encoded data removed]",
      "text/plain": [
       "<Figure size 800x560 with 2 Axes>"
      ]
     },
     "metadata": {
      "needs_background": "light"
     },
     "output_type": "display_data"
    }
   ],
   "source": [
    "import seaborn as sns\n",
    "#Хитмап корреляции\n",
    "plt.figure(figsize=(10,7), dpi= 80)\n",
    "sns.heatmap(df.corr(), annot=True)\n",
    "plt.title('Корреляция', size = 20)"
   ]
  },
  {
   "cell_type": "markdown",
   "id": "915093fa",
   "metadata": {},
   "source": [
    "- Наиболее скореллированные: average_montly_hours - number_project\n",
    "- Наименее скореллированные: time_spend_company - Work_accident"
   ]
  },
  {
   "cell_type": "markdown",
   "id": "7d3bba65",
   "metadata": {},
   "source": [
    "### 4. Рассчитайте сколько сотрудников работает в каждом департаменте."
   ]
  },
  {
   "cell_type": "code",
   "execution_count": 6,
   "id": "8adc015c",
   "metadata": {},
   "outputs": [
    {
     "data": {
      "text/html": [
       "<div>\n",
       "<style scoped>\n",
       "    .dataframe tbody tr th:only-of-type {\n",
       "        vertical-align: middle;\n",
       "    }\n",
       "\n",
       "    .dataframe tbody tr th {\n",
       "        vertical-align: top;\n",
       "    }\n",
       "\n",
       "    .dataframe thead th {\n",
       "        text-align: right;\n",
       "    }\n",
       "</style>\n",
       "<table border=\"1\" class=\"dataframe\">\n",
       "  <thead>\n",
       "    <tr style=\"text-align: right;\">\n",
       "      <th></th>\n",
       "      <th>department</th>\n",
       "    </tr>\n",
       "    <tr>\n",
       "      <th>department</th>\n",
       "      <th></th>\n",
       "    </tr>\n",
       "  </thead>\n",
       "  <tbody>\n",
       "    <tr>\n",
       "      <th>IT</th>\n",
       "      <td>954</td>\n",
       "    </tr>\n",
       "    <tr>\n",
       "      <th>RandD</th>\n",
       "      <td>666</td>\n",
       "    </tr>\n",
       "    <tr>\n",
       "      <th>accounting</th>\n",
       "      <td>563</td>\n",
       "    </tr>\n",
       "    <tr>\n",
       "      <th>hr</th>\n",
       "      <td>524</td>\n",
       "    </tr>\n",
       "    <tr>\n",
       "      <th>management</th>\n",
       "      <td>539</td>\n",
       "    </tr>\n",
       "    <tr>\n",
       "      <th>marketing</th>\n",
       "      <td>655</td>\n",
       "    </tr>\n",
       "    <tr>\n",
       "      <th>product_mng</th>\n",
       "      <td>704</td>\n",
       "    </tr>\n",
       "    <tr>\n",
       "      <th>sales</th>\n",
       "      <td>3126</td>\n",
       "    </tr>\n",
       "    <tr>\n",
       "      <th>support</th>\n",
       "      <td>1674</td>\n",
       "    </tr>\n",
       "    <tr>\n",
       "      <th>technical</th>\n",
       "      <td>2023</td>\n",
       "    </tr>\n",
       "  </tbody>\n",
       "</table>\n",
       "</div>"
      ],
      "text/plain": [
       "             department\n",
       "department             \n",
       "IT                  954\n",
       "RandD               666\n",
       "accounting          563\n",
       "hr                  524\n",
       "management          539\n",
       "marketing           655\n",
       "product_mng         704\n",
       "sales              3126\n",
       "support            1674\n",
       "technical          2023"
      ]
     },
     "execution_count": 6,
     "metadata": {},
     "output_type": "execute_result"
    }
   ],
   "source": [
    "df.loc[df['left']==0].groupby('department').agg({'department': 'count'})"
   ]
  },
  {
   "cell_type": "markdown",
   "id": "228900d9",
   "metadata": {},
   "source": [
    "### 5. Показать распределение сотрудников по зарплатам"
   ]
  },
  {
   "cell_type": "code",
   "execution_count": 7,
   "id": "129d420b",
   "metadata": {
    "scrolled": true
   },
   "outputs": [
    {
     "data": {
      "text/plain": [
       "Text(0.5, 1.0, 'Распределение сотрудников по зарплатам')"
      ]
     },
     "execution_count": 7,
     "metadata": {},
     "output_type": "execute_result"
    },
    {
     "data": {
      "image/png": "[encoded data removed]",
      "text/plain": [
       "<Figure size 432x288 with 1 Axes>"
      ]
     },
     "metadata": {
      "needs_background": "light"
     },
     "output_type": "display_data"
    }
   ],
   "source": [
    "salary = df['salary'].value_counts().reset_index().rename(columns={0: \"count\"})\n",
    "\n",
    "ax = sns.barplot(x='index', y='salary', data=salary)\n",
    "ax.set(xlabel='уровень зарплаты', ylabel='колиество сотрудников')\n",
    "plt.title('Распределение сотрудников по зарплатам', size = 15)"
   ]
  },
  {
   "cell_type": "markdown",
   "id": "240dc4d5",
   "metadata": {},
   "source": [
    "### 6. Показать распределение сотрудников по зарплатам в каждом департаменте по отдельности"
   ]
  },
  {
   "cell_type": "code",
   "execution_count": 8,
   "id": "2f1395f2",
   "metadata": {},
   "outputs": [
    {
     "data": {
      "text/plain": [
       "Text(0.5, 1.0, 'Распределение размера зарплат по департаментам')"
      ]
     },
     "execution_count": 8,
     "metadata": {},
     "output_type": "execute_result"
    },
    {
     "data": {
      "image/png": "[encoded data removed]",
      "text/plain": [
       "<Figure size 800x560 with 1 Axes>"
      ]
     },
     "metadata": {
      "needs_background": "light"
     },
     "output_type": "display_data"
    }
   ],
   "source": [
    "salary = df[['department','salary' ]]\\\n",
    ".groupby(['department','salary'])\\\n",
    ".agg({'department': 'count'})\\\n",
    ".rename(columns={'department': \"count\"})\\\n",
    ".reset_index()\\\n",
    ".sort_values(by=['count'], ascending=False)\n",
    "\n",
    "plt.figure(figsize=(10,7), dpi= 80)\n",
    "ax = sns.barplot(x=\"department\", y='count', hue=\"salary\", data=salary);\n",
    "ax.set_xlabel(\"Департамент\",fontsize=15)\n",
    "ax.set_ylabel(\"Колиество сотрудников\",fontsize=15)\n",
    "plt.tick_params(labelsize=9)\n",
    "plt.title('Распределение размера зарплат по департаментам', size = 20)\n",
    "#plt.xticks(rotation=45) "
   ]
  },
  {
   "cell_type": "markdown",
   "id": "871815a1",
   "metadata": {},
   "source": [
    "### 7. Проверить гипотезу, что сотрудники с высоким окладом проводят на работе больше времени, чем сотрудники с низким окладом"
   ]
  },
  {
   "cell_type": "markdown",
   "id": "e982b005",
   "metadata": {},
   "source": [
    "* H0: Сотрудники с высоким окладом проводят на работе меньше или столько же времени, по сравнению с сотрудниками с низким окладом.\n",
    "* H1: Сотрудники с высоким окладом проводят на работе больше времени, по сравнению с сотрудниками с низким окладом.\n"
   ]
  },
  {
   "cell_type": "code",
   "execution_count": 9,
   "id": "bc515eb4",
   "metadata": {},
   "outputs": [],
   "source": [
    "from scipy import stats"
   ]
  },
  {
   "cell_type": "code",
   "execution_count": 10,
   "id": "d72d35e3",
   "metadata": {},
   "outputs": [],
   "source": [
    "low_salary = df['average_montly_hours'].loc[df.salary == 'low']\n",
    "high_salary = df['average_montly_hours'].loc[df.salary == 'high']"
   ]
  },
  {
   "cell_type": "code",
   "execution_count": 11,
   "id": "55b83130",
   "metadata": {},
   "outputs": [
    {
     "data": {
      "text/plain": [
       "Ttest_indResult(statistic=-0.7288680398062308, pvalue=0.4661023478267259)"
      ]
     },
     "execution_count": 11,
     "metadata": {},
     "output_type": "execute_result"
    }
   ],
   "source": [
    "stats.ttest_ind(high_salary, low_salary)"
   ]
  },
  {
   "cell_type": "code",
   "execution_count": 12,
   "id": "3fc23748",
   "metadata": {
    "scrolled": true
   },
   "outputs": [
    {
     "data": {
      "text/plain": [
       "<matplotlib.legend.Legend at 0x1a83cfca6d0>"
      ]
     },
     "execution_count": 12,
     "metadata": {},
     "output_type": "execute_result"
    },
    {
     "data": {
      "image/png": "[encoded data removed]",
      "text/plain": [
       "<Figure size 960x400 with 2 Axes>"
      ]
     },
     "metadata": {
      "needs_background": "light"
     },
     "output_type": "display_data"
    }
   ],
   "source": [
    "fig, ax =plt.subplots(1,2, figsize=(12, 5), dpi= 80)\n",
    "ax0 = sns.histplot(low_salary, label='low', stat='density', color='red', kde=True, ax=ax[0])\n",
    "ax0.legend(title='Salary')\n",
    "ax1 = sns.histplot(high_salary, label='high', stat='density', color='green', kde=True, ax=ax[1])\n",
    "ax1.legend(title='Salary')"
   ]
  },
  {
   "cell_type": "code",
   "execution_count": 13,
   "id": "fb5d6627",
   "metadata": {},
   "outputs": [
    {
     "data": {
      "text/plain": [
       "Ttest_indResult(statistic=-0.7288680398062308, pvalue=0.4661023478267259)"
      ]
     },
     "execution_count": 13,
     "metadata": {},
     "output_type": "execute_result"
    }
   ],
   "source": [
    "stats.ttest_ind(high_salary, low_salary)"
   ]
  },
  {
   "cell_type": "markdown",
   "id": "a14da65f",
   "metadata": {},
   "source": [
    "Результаты расчета демонстируют высокий уровень p-value, значительно выше уровня значимости 0.05."
   ]
  },
  {
   "cell_type": "code",
   "execution_count": 14,
   "id": "6f0ecb60",
   "metadata": {},
   "outputs": [
    {
     "data": {
      "text/plain": [
       "MannwhitneyuResult(statistic=4507096.5, pvalue=0.4120665360429347)"
      ]
     },
     "execution_count": 14,
     "metadata": {},
     "output_type": "execute_result"
    }
   ],
   "source": [
    "stats.mannwhitneyu(high_salary, low_salary)"
   ]
  },
  {
   "cell_type": "markdown",
   "id": "84d1213e",
   "metadata": {},
   "source": [
    "Подтверждаем первоначальные выводы критерием Манна-Уитни.\n",
    "Высокий уровень p-value явно указывает на низкий уровень различий между распределениями. Таким образом H0-гипотезу \n",
    "отбросить не представляется возможным."
   ]
  },
  {
   "cell_type": "markdown",
   "id": "4395f380",
   "metadata": {},
   "source": [
    "### 8. Рассчитать следующие показатели среди уволившихся и неуволившихся сотрудников (по отдельности):"
   ]
  },
  {
   "cell_type": "markdown",
   "id": "a5a7b7ee",
   "metadata": {},
   "source": [
    "* Доля сотрудников с повышением за последние 5 лет\n",
    "* Средняя степень удовлетворенности\n",
    "* Среднее количество проектов"
   ]
  },
  {
   "cell_type": "code",
   "execution_count": 15,
   "id": "e1fadaa3",
   "metadata": {},
   "outputs": [
    {
     "data": {
      "text/html": [
       "<div>\n",
       "<style scoped>\n",
       "    .dataframe tbody tr th:only-of-type {\n",
       "        vertical-align: middle;\n",
       "    }\n",
       "\n",
       "    .dataframe tbody tr th {\n",
       "        vertical-align: top;\n",
       "    }\n",
       "\n",
       "    .dataframe thead th {\n",
       "        text-align: right;\n",
       "    }\n",
       "</style>\n",
       "<table border=\"1\" class=\"dataframe\">\n",
       "  <thead>\n",
       "    <tr style=\"text-align: right;\">\n",
       "      <th></th>\n",
       "      <th>Средняя степень удовлетворенности</th>\n",
       "      <th>Среднее количество проектов</th>\n",
       "      <th>Доля сотрудников с повышением</th>\n",
       "    </tr>\n",
       "    <tr>\n",
       "      <th>left_type</th>\n",
       "      <th></th>\n",
       "      <th></th>\n",
       "      <th></th>\n",
       "    </tr>\n",
       "  </thead>\n",
       "  <tbody>\n",
       "    <tr>\n",
       "      <th>left</th>\n",
       "      <td>0.666810</td>\n",
       "      <td>3.786664</td>\n",
       "      <td>0.026251</td>\n",
       "    </tr>\n",
       "    <tr>\n",
       "      <th>stay</th>\n",
       "      <td>0.440098</td>\n",
       "      <td>3.855503</td>\n",
       "      <td>0.005321</td>\n",
       "    </tr>\n",
       "  </tbody>\n",
       "</table>\n",
       "</div>"
      ],
      "text/plain": [
       "           Средняя степень удовлетворенности  Среднее количество проектов  \\\n",
       "left_type                                                                   \n",
       "left                                0.666810                     3.786664   \n",
       "stay                                0.440098                     3.855503   \n",
       "\n",
       "           Доля сотрудников с повышением  \n",
       "left_type                                 \n",
       "left                            0.026251  \n",
       "stay                            0.005321  "
      ]
     },
     "execution_count": 15,
     "metadata": {},
     "output_type": "execute_result"
    }
   ],
   "source": [
    "df_8 = df.copy()\n",
    "\n",
    "df_8.loc[df_8.left == 0,'left_type'] = 'left'\n",
    "df_8.loc[df_8.left == 1,'left_type'] = 'stay'\n",
    "d_cnt = {\n",
    "    'left': len(df_8.loc[df_8.left == 0].index),\n",
    "    'stay': len(df_8.loc[df_8.left == 1].index)\n",
    "}\n",
    "df_8['promotion_percent'] = df_8.apply(lambda x: (1/d_cnt[x['left_type']]) if x['promotion_last_5years'] == 1 else 0, axis=1)\n",
    "\n",
    "df_8.groupby('left_type')\\\n",
    ".agg({'satisfaction_level': 'mean', 'number_project': 'mean', 'promotion_percent':'sum'})\\\n",
    ".rename(columns={'satisfaction_level': 'Средняя степень удовлетворенности',\n",
    "               'number_project': 'Среднее количество проектов',\n",
    "                'promotion_percent': 'Доля сотрудников с повышением'})\n",
    "\n"
   ]
  },
  {
   "cell_type": "markdown",
   "id": "4102f2fd",
   "metadata": {},
   "source": [
    "### 9. Разделить данные на тестовую и обучающую выборки\n",
    "### Построить модель LDA, предсказывающую уволился ли сотрудник на основе имеющихся факторов (кроме department и salary)\n",
    "### Оценить качество модели на тестовой выборки"
   ]
  },
  {
   "cell_type": "code",
   "execution_count": 16,
   "id": "38628b24",
   "metadata": {},
   "outputs": [],
   "source": [
    "# разделяем выборку на тренировочную и тестовую\n",
    "from sklearn.model_selection import train_test_split\n",
    "X_train, X_test, y_train, y_test = train_test_split(df.drop(['left','department', 'salary'], axis=1), df[['left']], test_size=0.25)"
   ]
  },
  {
   "cell_type": "code",
   "execution_count": 17,
   "id": "0241cbc2",
   "metadata": {
    "scrolled": true
   },
   "outputs": [
    {
     "name": "stderr",
     "output_type": "stream",
     "text": [
      "C:\\Users\\WNick\\anaconda3\\lib\\site-packages\\sklearn\\utils\\validation.py:63: DataConversionWarning: A column-vector y was passed when a 1d array was expected. Please change the shape of y to (n_samples, ), for example using ravel().\n",
      "  return f(*args, **kwargs)\n"
     ]
    },
    {
     "data": {
      "text/html": [
       "<div>\n",
       "<style scoped>\n",
       "    .dataframe tbody tr th:only-of-type {\n",
       "        vertical-align: middle;\n",
       "    }\n",
       "\n",
       "    .dataframe tbody tr th {\n",
       "        vertical-align: top;\n",
       "    }\n",
       "\n",
       "    .dataframe thead th {\n",
       "        text-align: right;\n",
       "    }\n",
       "</style>\n",
       "<table border=\"1\" class=\"dataframe\">\n",
       "  <thead>\n",
       "    <tr style=\"text-align: right;\">\n",
       "      <th></th>\n",
       "      <th>index</th>\n",
       "      <th>left</th>\n",
       "      <th>0</th>\n",
       "    </tr>\n",
       "  </thead>\n",
       "  <tbody>\n",
       "    <tr>\n",
       "      <th>0</th>\n",
       "      <td>2496</td>\n",
       "      <td>0</td>\n",
       "      <td>0</td>\n",
       "    </tr>\n",
       "    <tr>\n",
       "      <th>1</th>\n",
       "      <td>10825</td>\n",
       "      <td>0</td>\n",
       "      <td>0</td>\n",
       "    </tr>\n",
       "    <tr>\n",
       "      <th>2</th>\n",
       "      <td>7743</td>\n",
       "      <td>0</td>\n",
       "      <td>0</td>\n",
       "    </tr>\n",
       "    <tr>\n",
       "      <th>3</th>\n",
       "      <td>6005</td>\n",
       "      <td>0</td>\n",
       "      <td>0</td>\n",
       "    </tr>\n",
       "    <tr>\n",
       "      <th>4</th>\n",
       "      <td>9423</td>\n",
       "      <td>0</td>\n",
       "      <td>0</td>\n",
       "    </tr>\n",
       "  </tbody>\n",
       "</table>\n",
       "</div>"
      ],
      "text/plain": [
       "   index  left  0\n",
       "0   2496     0  0\n",
       "1  10825     0  0\n",
       "2   7743     0  0\n",
       "3   6005     0  0\n",
       "4   9423     0  0"
      ]
     },
     "execution_count": 17,
     "metadata": {},
     "output_type": "execute_result"
    }
   ],
   "source": [
    "# импортируем LDA-функционал\n",
    "from sklearn.discriminant_analysis import LinearDiscriminantAnalysis\n",
    "lda = LinearDiscriminantAnalysis()\n",
    "# обучаем данные\n",
    "lda.fit(X_train, y_train)\n",
    "# делаем прогноз на тестовой выборке\n",
    "lda.predict(X_test)\n",
    "# смотрим разницу факта и прогноза\n",
    "result = y_test.reset_index().join(pd.DataFrame(lda.predict(X_test))) \n",
    "result.head()"
   ]
  },
  {
   "cell_type": "code",
   "execution_count": 18,
   "id": "a77f5ead",
   "metadata": {},
   "outputs": [
    {
     "name": "stdout",
     "output_type": "stream",
     "text": [
      "[[-4.60248035e+00  7.27910731e-01 -2.45993562e-01  3.72690194e-03\n",
      "   2.19007142e-01 -1.05545316e+00 -1.12589883e+00]]\n"
     ]
    }
   ],
   "source": [
    "# смотрим коэффициенты дискриминатных линий\n",
    "print(lda.coef_)"
   ]
  },
  {
   "cell_type": "code",
   "execution_count": 19,
   "id": "d4c740d6",
   "metadata": {},
   "outputs": [
    {
     "data": {
      "text/plain": [
       "0.7597333333333334"
      ]
     },
     "execution_count": 19,
     "metadata": {},
     "output_type": "execute_result"
    }
   ],
   "source": [
    "# расчитываем метрику точности\n",
    "from sklearn.metrics import accuracy_score, classification_report\n",
    "accuracy_score(y_test, lda.predict(X_test))\n",
    "# Так как классы не сбалансированы, давай метрика не дает достоверный ответ"
   ]
  },
  {
   "cell_type": "code",
   "execution_count": 21,
   "id": "2b6c377c",
   "metadata": {},
   "outputs": [
    {
     "name": "stdout",
     "output_type": "stream",
     "text": [
      "              precision    recall  f1-score   support\n",
      "\n",
      "        stay       0.79      0.92      0.85      2829\n",
      "        left       0.52      0.26      0.34       921\n",
      "\n",
      "    accuracy                           0.76      3750\n",
      "   macro avg       0.66      0.59      0.60      3750\n",
      "weighted avg       0.73      0.76      0.73      3750\n",
      "\n"
     ]
    }
   ],
   "source": [
    "# расчитаем более детальные метрики:\n",
    "\n",
    "report = classification_report(y_test, lda.predict(X_test), target_names=['stay', 'left'])\n",
    "print(report)"
   ]
  },
  {
   "cell_type": "markdown",
   "id": "749930a1",
   "metadata": {},
   "source": [
    "#### Судя по Recall и F- мере данная модель плохо предсказывает увольнение сотрудника."
   ]
  }
 ],
 "metadata": {
  "kernelspec": {
   "display_name": "Python 3",
   "language": "python",
   "name": "python3"
  },
  "language_info": {
   "codemirror_mode": {
    "name": "ipython",
    "version": 3
   },
   "file_extension": ".py",
   "mimetype": "text/x-python",
   "name": "python",
   "nbconvert_exporter": "python",
   "pygments_lexer": "ipython3",
   "version": "3.8.8"
  }
 },
 "nbformat": 4,
 "nbformat_minor": 5
}
