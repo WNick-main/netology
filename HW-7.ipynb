{
 "cells": [
  {
   "cell_type": "markdown",
   "metadata": {},
   "source": [
    "# Домашнее задание к лекции \"Исключения и обработка ошибок\""
   ]
  },
  {
   "cell_type": "markdown",
   "metadata": {},
   "source": [
    "## Задание 1\n",
    "\n",
    "Печатные газеты использовали свой формат дат для каждого выпуска. Для каждой газеты из списка напишите формат указанной даты для перевода в объект datetime:\n",
    "\n",
    "The Moscow Times - Wednesday, October 2, 2002\n",
    "\n",
    "The Guardian - Friday, 11.10.13\n",
    "\n",
    "Daily News - Thursday, 18 August 1977"
   ]
  },
  {
   "cell_type": "code",
   "execution_count": 7,
   "metadata": {},
   "outputs": [
    {
     "name": "stdout",
     "output_type": "stream",
     "text": [
      "The Moscow Times: 2002-10-02 00:00:00\n",
      "The Guardian: 2013-10-11 00:00:00\n",
      "Daily News: 1977-08-18 00:00:00\n"
     ]
    }
   ],
   "source": [
    "from datetime import datetime\n",
    "\n",
    "time_str1 = 'October 2, 2002'\n",
    "result1 = datetime.strptime(time_str1,'%B %d, %Y')\n",
    "\n",
    "time_str2 = '11.10.13'\n",
    "result2 = datetime.strptime(time_str2,'%d.%m.%y')\n",
    "\n",
    "time_str3 = '18 August 1977'\n",
    "result3 = datetime.strptime(time_str3,'%d %B %Y')\n",
    "\n",
    "print(f'The Moscow Times: {result1}')\n",
    "print(f'The Guardian: {result2}')\n",
    "print(f'Daily News: {result3}')"
   ]
  },
  {
   "cell_type": "markdown",
   "metadata": {},
   "source": [
    "## Задание 2\n",
    "\n",
    "Дан поток дат в формате YYYY-MM-DD, в которых встречаются некорректные значения:\n",
    "\n",
    "`stream = ['2018-04-02', '2018-02-29', '2018-19-02']`\n",
    "\n",
    "Напишите функцию, которая проверяет эти даты на корректность. Т. е. для каждой даты возвращает True (дата корректна) или False (некорректная дата)."
   ]
  },
  {
   "cell_type": "code",
   "execution_count": 5,
   "metadata": {},
   "outputs": [
    {
     "name": "stdout",
     "output_type": "stream",
     "text": [
      "Validate: 2018-04-02 - True\n",
      "Validate: 2018-02-29 - False\n",
      "Validate: 2018-19-02 - False\n"
     ]
    }
   ],
   "source": [
    "from datetime import datetime\n",
    "       \n",
    "def check_date(stream):\n",
    "        try:\n",
    "            result = datetime.strptime(item,'%Y-%m-%d')\n",
    "            return True\n",
    "        except: return False\n",
    "\n",
    "stream = ['2018-04-02', '2018-02-29', '2018-19-02']\n",
    "for item in stream:\n",
    "    print(f'Validate: {item} - {check_date(item)}')"
   ]
  },
  {
   "cell_type": "markdown",
   "metadata": {},
   "source": [
    "## Задание 3\n",
    "\n",
    "Напишите функцию date_range, которая возвращает список дат за период от start_date до end_date. Даты должны вводиться в формате YYYY-MM-DD. В случае неверного формата или при start_date > end_date должен возвращаться пустой список."
   ]
  },
  {
   "cell_type": "code",
   "execution_count": 23,
   "metadata": {},
   "outputs": [
    {
     "name": "stdout",
     "output_type": "stream",
     "text": [
      "Дата старта: (YYYY-MM-DD)2020-11-21\n",
      "Дата окончания: (YYYY-MM-DD)2020-12-08\n"
     ]
    },
    {
     "data": {
      "text/plain": [
       "[datetime.datetime(2020, 11, 22, 0, 0),\n",
       " datetime.datetime(2020, 11, 23, 0, 0),\n",
       " datetime.datetime(2020, 11, 24, 0, 0),\n",
       " datetime.datetime(2020, 11, 25, 0, 0),\n",
       " datetime.datetime(2020, 11, 26, 0, 0),\n",
       " datetime.datetime(2020, 11, 27, 0, 0),\n",
       " datetime.datetime(2020, 11, 28, 0, 0),\n",
       " datetime.datetime(2020, 11, 29, 0, 0),\n",
       " datetime.datetime(2020, 11, 30, 0, 0),\n",
       " datetime.datetime(2020, 12, 1, 0, 0),\n",
       " datetime.datetime(2020, 12, 2, 0, 0),\n",
       " datetime.datetime(2020, 12, 3, 0, 0),\n",
       " datetime.datetime(2020, 12, 4, 0, 0),\n",
       " datetime.datetime(2020, 12, 5, 0, 0),\n",
       " datetime.datetime(2020, 12, 6, 0, 0),\n",
       " datetime.datetime(2020, 12, 7, 0, 0)]"
      ]
     },
     "execution_count": 23,
     "metadata": {},
     "output_type": "execute_result"
    }
   ],
   "source": [
    "from datetime import datetime, timedelta\n",
    "\n",
    "def date_range(stDate,enDate):\n",
    "    result = []\n",
    "    try:\n",
    "        stDate_dt = datetime.strptime(stDate,\"%Y-%m-%d\") \n",
    "        enDate_dt = datetime.strptime(enDate,\"%Y-%m-%d\")\n",
    "        curDate = stDate_dt + timedelta(days=1)\n",
    "    \n",
    "        while curDate < enDate_dt:\n",
    "            result.append(curDate)\n",
    "            curDate += timedelta(days=1)\n",
    "    except: print(\"Ошибка формата ввода\")\n",
    "    return result\n",
    "\n",
    "stDate = input(\"Дата старта: (YYYY-MM-DD)\")\n",
    "enDate = input(\"Дата окончания: (YYYY-MM-DD)\")\n",
    "#stDate = '2020-11-212'\n",
    "#enDate = '2020-12-08'\n",
    "listOfDates = date_range(stDate,enDate)\n",
    "listOfDates"
   ]
  },
  {
   "cell_type": "markdown",
   "metadata": {},
   "source": [
    "## Задание 4 (бонусное)\n",
    "\n",
    "Ваш коллега прислал код функции:\n",
    "\n",
    "DEFAULT_USER_COUNT = 3\n",
    "\n",
    "def delete_and_return_last_user(region, default_list=['A100', 'A101', 'A102']):\n",
    "\n",
    "\"\"“\n",
    "\n",
    "Удаляет из списка default_list последнего пользователя\n",
    "\n",
    "и возвращает ID нового последнего пользователя.\n",
    "\n",
    "”\"\"\n",
    "\n",
    "element_to_delete = default_list[-1]\n",
    "\n",
    "default_list.remove(element_to_delete)\n",
    "\n",
    "`1 return default_list[DEFAULT_USER_COUNT-2]`\n",
    "\n",
    "При однократном вызове этой функции все работает корректно:\n",
    "delete_and_return_last_user(1)\n",
    "‘A101’\n",
    "\n",
    "Однако, при повторном вызове получается ошибка IndexError: list index out of range.\n",
    "\n",
    "Задание:\n",
    "\n",
    "    1. Что значит ошибка list index out of range?\n",
    "    2. Почему при первом запуске функция работает корректно, а при втором - нет?\n"
   ]
  },
  {
   "cell_type": "code",
   "execution_count": 28,
   "metadata": {},
   "outputs": [
    {
     "name": "stdout",
     "output_type": "stream",
     "text": [
      "['A100', 'A101']\n",
      "['A100']\n"
     ]
    }
   ],
   "source": [
    "DEFAULT_USER_COUNT = 3\n",
    "\n",
    "def delete_and_return_last_user(region, default_list=['A100', 'A101', 'A102']):\n",
    "    \"\"\"\n",
    "    Удаляет из списка default_list последнего пользователя\n",
    "    и возвращает ID нового последнего пользователя.\n",
    "    \"\"\"\n",
    "    element_to_delete = default_list[-1]\n",
    "    default_list.remove(element_to_delete)\n",
    "    print(default_list)\n",
    "    return default_list[DEFAULT_USER_COUNT-2]\n",
    "\n",
    "FRun = delete_and_return_last_user(\"test\")\n",
    "SRun = delete_and_return_last_user(\"test\")\n",
    "\n",
    "# 1. list index out of range - обращение к несуществующему элементу списка \n",
    "# 2. Индексы, по которым происходит удаление и возврат элементов рассчитываются от константы.\n",
    "# Для решения проблемы достаточно перенести DEFAULT_USER_COUNT в тело функции и рассчитывать динамически от длины списка: len(default_list)"
   ]
  }
 ],
 "metadata": {
  "kernelspec": {
   "display_name": "Python 3",
   "language": "python",
   "name": "python3"
  },
  "language_info": {
   "codemirror_mode": {
    "name": "ipython",
    "version": 3
   },
   "file_extension": ".py",
   "mimetype": "text/x-python",
   "name": "python",
   "nbconvert_exporter": "python",
   "pygments_lexer": "ipython3",
   "version": "3.7.3"
  }
 },
 "nbformat": 4,
 "nbformat_minor": 2
}
