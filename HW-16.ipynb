{
 "cells": [
  {
   "cell_type": "code",
   "execution_count": 3,
   "id": "379953bb",
   "metadata": {},
   "outputs": [],
   "source": [
    "import numpy as np"
   ]
  },
  {
   "cell_type": "code",
   "execution_count": 34,
   "id": "24411fd2",
   "metadata": {},
   "outputs": [
    {
     "data": {
      "text/plain": [
       "0.7972144"
      ]
     },
     "execution_count": 34,
     "metadata": {},
     "output_type": "execute_result"
    }
   ],
   "source": [
    "def game(have, cost, cnt):\n",
    "    \"\"\"\n",
    "    Смоделировать игру против лотерейного автомата типа “777”. Игрок платит 1 руб.,\n",
    "    после чего выпадает случайное целое число, равномерно распределенное от 0 до 999. \n",
    "    При некоторых значениях числа игрок получает выигрыш.\n",
    "    777: 200 руб.\n",
    "    999: 100 руб.\n",
    "    555: 50 руб.\n",
    "    333: 15 руб.\n",
    "    111: 10 руб.\n",
    "    *77: 5 руб.\n",
    "    **7: 3 руб.\n",
    "    *00: 2 руб.\n",
    "    **0: 1 руб.\n",
    "    \"\"\"\n",
    "    d_gain = {\n",
    "        777: 200,\n",
    "        999: 100,\n",
    "        555: 50,\n",
    "        333: 15,\n",
    "        111: 10,\n",
    "        77: 5,\n",
    "        7:3}\n",
    "    bank = have    \n",
    "    for i in range(cnt):\n",
    "        bank -= 1\n",
    "        gain = 0\n",
    "        number = np.random.randint(0, 1000)\n",
    "        if d_gain.get(number): \n",
    "            gain = d_gain.get(number)\n",
    "        elif number % 100 == 77:\n",
    "            gain = 5\n",
    "        elif number % 10 == 7:\n",
    "            gain = 3\n",
    "        elif number % 100 == 0:\n",
    "            gain = 2\n",
    "        elif number % 10 == 0:\n",
    "            gain = 1\n",
    "        \n",
    "        #print(f'step {i}: {number}: {bank} + {gain}')\n",
    "        bank += gain \n",
    "        if bank == 0:\n",
    "            break\n",
    "    return bank    \n",
    "\n",
    "game_list = []\n",
    "for i in range(10000000):\n",
    "    game_list.append(game(1, 1, 1))\n",
    "RTP = np.mean(game_list)\n",
    "\"\"\" \n",
    "Выгодна ли игра игроку? - Нет, не выгодна.\n",
    "Сколько в среднем приобретает или теряет игрок за одну игру? - Процент возврата составляет ~80%\n",
    "\"\"\"\n",
    "RTP"
   ]
  }
 ],
 "metadata": {
  "kernelspec": {
   "display_name": "Python 3",
   "language": "python",
   "name": "python3"
  },
  "language_info": {
   "codemirror_mode": {
    "name": "ipython",
    "version": 3
   },
   "file_extension": ".py",
   "mimetype": "text/x-python",
   "name": "python",
   "nbconvert_exporter": "python",
   "pygments_lexer": "ipython3",
   "version": "3.8.8"
  }
 },
 "nbformat": 4,
 "nbformat_minor": 5
}
