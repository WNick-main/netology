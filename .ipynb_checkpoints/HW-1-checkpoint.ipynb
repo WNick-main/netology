{
 "cells": [
  {
   "cell_type": "markdown",
   "metadata": {},
   "source": [
    "## Задание 1\n",
    "Даны 2 переменных, в которых хранятся строки произвольной длины: phrase_1 и phrase_2.\n",
    "Напишите код, который проверяет какая из этих строк длиннее."
   ]
  },
  {
   "cell_type": "code",
   "execution_count": 15,
   "metadata": {},
   "outputs": [
    {
     "name": "stdout",
     "output_type": "stream",
     "text": [
      "Фраза 2 длиннее фразы 1\n"
     ]
    }
   ],
   "source": [
    "phrase_1 = \"Test string len 18\"\n",
    "phrase_2 = \"Test string with additional simbols,len 42\"\n",
    "\n",
    "if len(phrase_1) > len(phrase_2):\n",
    "    result = \"Фраза 1 длиннее фразы 2\"\n",
    "elif len(phrase_1) == len(phrase_2):\n",
    "    result = \"Фразы равной длины\"\n",
    "else:\n",
    "    result = \"Фраза 2 длиннее фразы 1\"\n",
    "    \n",
    "print(result)"
   ]
  },
  {
   "cell_type": "markdown",
   "metadata": {},
   "source": [
    "## Задание 2\n",
    "\n",
    "Дана переменная, в которой хранится четырехзначное число (год). Необходимо написать программу, которая выведет, является ли данный год високосным или обычным."
   ]
  },
  {
   "cell_type": "code",
   "execution_count": 35,
   "metadata": {},
   "outputs": [
    {
     "name": "stdout",
     "output_type": "stream",
     "text": [
      "Обычный год\n"
     ]
    }
   ],
   "source": [
    "year  = 2100\n",
    "result = \"Обычный год\"\n",
    "if year %4==0:\n",
    "    if year %100==0:\n",
    "        if year %400==0:\n",
    "            result = \"Високосный год\"\n",
    "    \n",
    "print(result)   "
   ]
  },
  {
   "cell_type": "markdown",
   "metadata": {},
   "source": [
    "## Задание 3\n",
    "\n",
    "Необходимо написать программу, которая будет запрашивать у пользователя месяц и дату рождения и выводить соответствующий знак зодиака."
   ]
  },
  {
   "cell_type": "code",
   "execution_count": 71,
   "metadata": {},
   "outputs": [
    {
     "name": "stdout",
     "output_type": "stream",
     "text": [
      "Введите день:\n",
      "3\n",
      "Введите месяц:\n",
      "6\n",
      "06.03\n",
      "Ваш знак зодиака: Близнецы ♊\n"
     ]
    }
   ],
   "source": [
    "print(\"Введите день:\")\n",
    "day = input()\n",
    "print(\"Введите месяц:\")\n",
    "month = input()\n",
    "date = str(month).zfill(2) + '.' + str(day).zfill(2)\n",
    "\n",
    "if date < '01.21' or date >= '12.23':\n",
    "    sign = 'Козерог'; simbol = u\"\\u2651\"\n",
    "elif date < '02.20':\n",
    "    sign = 'Водолей'; simbol = u\"\\u2652\"\n",
    "elif date < '03.21':\n",
    "    sign = 'Рыбы'; simbol = u\"\\u2653\"\n",
    "elif date < '04.21':\n",
    "    sign = 'Овен'; simbol = u\"\\u2648\"\n",
    "elif date < '05.22':\n",
    "    sign = 'Телец'; simbol = u\"\\u2649\"\n",
    "elif date < '06.22':\n",
    "    sign = 'Близнецы'; simbol = u\"\\u264A\"\n",
    "elif date < '07.23':\n",
    "    sign = 'Рак'; simbol = u\"\\u264B\"\n",
    "elif date < '08.22':\n",
    "    sign = 'Лев'; simbol = u\"\\u264C\"\n",
    "elif date < '09.24':\n",
    "    sign = 'Дева'; simbol = u\"\\u264D\"\n",
    "elif date < '10.24':\n",
    "    sign = 'Весы'; simbol = u\"\\u264E\"\n",
    "elif date < '11.23':\n",
    "    sign = 'Скорпион'; simbol = u\"\\u264F\"\n",
    "elif date < '12.23':\n",
    "    sign = 'Стрелец'; simbol = u\"\\u2650\"\n",
    "\n",
    "result = \"Ваш знак зодиака: \" + sign + ' ' + simbol\n",
    "print(result)   "
   ]
  },
  {
   "cell_type": "markdown",
   "metadata": {},
   "source": [
    "## Задание 4\n",
    "\n",
    "Вам нужно написать программу для подбора упаковок по размерам товара. Размеры (ширина, длина, высота) хранятся в переменных (в сантиметрах):\n",
    "\n",
    "Используйте следующие правила:\n",
    "\n",
    "    если каждое из трех измерений менее 15 сантиметров, то выведите на экран \"Коробка №1\";\n",
    "    если хотя бы одно из измерений больше 15 сантиметров, но менее 50 сантиметров, то выводите \"Коробка №2\";\n",
    "    если длина товара больше 2 метров, то выводите \"Упаковка для лыж\";\n",
    "    во всех остальных случаях выводите \"Стандартная коробка №3\".\n"
   ]
  },
  {
   "cell_type": "code",
   "execution_count": 76,
   "metadata": {},
   "outputs": [
    {
     "name": "stdout",
     "output_type": "stream",
     "text": [
      "Коробка №2\n"
     ]
    }
   ],
   "source": [
    "width = 14\n",
    "length = 34\n",
    "height = 14\n",
    "\n",
    "if width < 15 and length < 15 and height < 15:\n",
    "    result = 'Коробка №1'\n",
    "elif width < 50 and length < 50 and height < 50:\n",
    "    result = 'Коробка №2'\n",
    "elif length > 200: \n",
    "    result = 'Ищите упаковку для лыж'\n",
    "else:\n",
    "    result = 'Стандартная коробка №3'\n",
    "print(result) "
   ]
  },
  {
   "cell_type": "markdown",
   "metadata": {},
   "source": [
    "## Задание 5 (необязательное)\n",
    "\n",
    "Дана переменная, в которой хранится шестизначное число (номер проездного билета). \n",
    "Напишите программу, которая будет определять, является ли данный билет \"счастливым\". \n",
    "Билет считается счастливым, если сумма первых трех цифр совпадает с суммой последних трех цифр номера."
   ]
  },
  {
   "cell_type": "code",
   "execution_count": 97,
   "metadata": {},
   "outputs": [
    {
     "name": "stdout",
     "output_type": "stream",
     "text": [
      "Счастливый билет\n"
     ]
    }
   ],
   "source": [
    "number = 123456\n",
    "number = 123321\n",
    "\n",
    "if int(str(number)[0]) + int(str(number)[1]) + int(str(number)[2]) == int(str(number)[3]) + int(str(number)[4]) + int(str(number)[5]):\n",
    "    result = \"Счастливый билет\"\n",
    "else:\n",
    "    result = \"Несчастливый билет\"\n",
    "    \n",
    "print(result) "
   ]
  },
  {
   "cell_type": "markdown",
   "metadata": {},
   "source": [
    "## Задание 6 (необязательное)\n",
    "\n",
    "Напишите программу, которая сможет вычислять площади трех фигур (круг, треугольник и прямоугольник). Тип фигуры запрашиваем через пользовательский ввод, после чего делаем запрос характеристик фигуры:\n",
    "\n",
    "    если пользователь выбрал круг, запрашиваем его радиус,\n",
    "    если треугольник – длины трех его сторон;\n",
    "    если прямоугольник – длины двух его сторон.\n"
   ]
  },
  {
   "cell_type": "code",
   "execution_count": 108,
   "metadata": {},
   "outputs": [
    {
     "name": "stdout",
     "output_type": "stream",
     "text": [
      "Введите тип фигуры:\n",
      "Прямоугольник\n",
      "Введите длину стороны A:\n",
      "10\n",
      "Введите длину стороны B:\n",
      "10\n",
      "Площадь прямоугольникa: 100\n"
     ]
    }
   ],
   "source": [
    "import math \n",
    "\n",
    "print('Введите тип фигуры:')\n",
    "type = input()\n",
    "\n",
    "if type == 'Круг':\n",
    "    print('Введите радиус круга:')\n",
    "    area = math.pi * int(input())**2  \n",
    "elif type == 'Треугольник':\n",
    "    print('Введите длину стороны A:')\n",
    "    side_a = int(input())\n",
    "    print('Введите длину стороны B:')\n",
    "    side_b = int(input())\n",
    "    print('Введите длину стороны C:')\n",
    "    side_c = int(input())\n",
    "    p = (side_a + side_b + side_c) / 2\n",
    "    area = math.sqrt(p * (p - side_a) * (p - side_b) * (p - side_c)) \n",
    "elif type == 'Прямоугольник':\n",
    "    print('Введите длину стороны A:')\n",
    "    side_a = int(input())\n",
    "    print('Введите длину стороны B:')\n",
    "    side_b = int(input())\n",
    "    area = side_a * side_b\n",
    "    \n",
    "result = (\"Площадь \" + type.lower() + \"a: \" + str(round(area,2)))\n",
    "\n",
    "print(result) \n"
   ]
  }
 ],
 "metadata": {
  "kernelspec": {
   "display_name": "Python 3",
   "language": "python",
   "name": "python3"
  },
  "language_info": {
   "codemirror_mode": {
    "name": "ipython",
    "version": 3
   },
   "file_extension": ".py",
   "mimetype": "text/x-python",
   "name": "python",
   "nbconvert_exporter": "python",
   "pygments_lexer": "ipython3",
   "version": "3.8.5"
  }
 },
 "nbformat": 4,
 "nbformat_minor": 4
}
